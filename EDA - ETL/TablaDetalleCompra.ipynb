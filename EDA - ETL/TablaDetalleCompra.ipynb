{
 "cells": [
  {
   "cell_type": "markdown",
   "metadata": {},
   "source": [
    "# Tabla de detalle de compra"
   ]
  },
  {
   "cell_type": "markdown",
   "metadata": {},
   "source": [
    "# 1. Importacion de librerias, lectura de archivo y primeras visualizaciones"
   ]
  },
  {
   "cell_type": "code",
   "execution_count": 1,
   "metadata": {},
   "outputs": [],
   "source": [
    "#Importamos las librerias\n",
    "import numpy as np\n",
    "import pandas as pd\n",
    "import matplotlib.pyplot as plt\n",
    "import seaborn as sns\n",
    "import datetime as dt"
   ]
  },
  {
   "cell_type": "code",
   "execution_count": 2,
   "metadata": {},
   "outputs": [],
   "source": [
    "#Lectura del archivo\n",
    "Detalle_compra = pd.read_csv(\"PurchasesFINAL12312016.csv\",sep=',')"
   ]
  },
  {
   "cell_type": "code",
   "execution_count": 3,
   "metadata": {},
   "outputs": [
    {
     "data": {
      "text/plain": [
       "(2372474, 16)"
      ]
     },
     "execution_count": 3,
     "metadata": {},
     "output_type": "execute_result"
    }
   ],
   "source": [
    "#Comprobamos la cantidad de registros \n",
    "np.shape (Detalle_compra)"
   ]
  },
  {
   "cell_type": "code",
   "execution_count": 4,
   "metadata": {},
   "outputs": [
    {
     "data": {
      "text/html": [
       "<div>\n",
       "<style scoped>\n",
       "    .dataframe tbody tr th:only-of-type {\n",
       "        vertical-align: middle;\n",
       "    }\n",
       "\n",
       "    .dataframe tbody tr th {\n",
       "        vertical-align: top;\n",
       "    }\n",
       "\n",
       "    .dataframe thead th {\n",
       "        text-align: right;\n",
       "    }\n",
       "</style>\n",
       "<table border=\"1\" class=\"dataframe\">\n",
       "  <thead>\n",
       "    <tr style=\"text-align: right;\">\n",
       "      <th></th>\n",
       "      <th>InventoryId</th>\n",
       "      <th>Store</th>\n",
       "      <th>Brand</th>\n",
       "      <th>Description</th>\n",
       "      <th>Size</th>\n",
       "      <th>VendorNumber</th>\n",
       "      <th>VendorName</th>\n",
       "      <th>PONumber</th>\n",
       "      <th>PODate</th>\n",
       "      <th>ReceivingDate</th>\n",
       "      <th>InvoiceDate</th>\n",
       "      <th>PayDate</th>\n",
       "      <th>PurchasePrice</th>\n",
       "      <th>Quantity</th>\n",
       "      <th>Dollars</th>\n",
       "      <th>Classification</th>\n",
       "    </tr>\n",
       "  </thead>\n",
       "  <tbody>\n",
       "    <tr>\n",
       "      <th>0</th>\n",
       "      <td>69_MOUNTMEND_8412</td>\n",
       "      <td>69</td>\n",
       "      <td>8412</td>\n",
       "      <td>Tequila Ocho Plata Fresno</td>\n",
       "      <td>750mL</td>\n",
       "      <td>105</td>\n",
       "      <td>ALTAMAR BRANDS LLC</td>\n",
       "      <td>8124</td>\n",
       "      <td>2015-12-21</td>\n",
       "      <td>2016-01-02</td>\n",
       "      <td>2016-01-04</td>\n",
       "      <td>2016-02-16</td>\n",
       "      <td>35.71</td>\n",
       "      <td>6</td>\n",
       "      <td>214.26</td>\n",
       "      <td>1</td>\n",
       "    </tr>\n",
       "    <tr>\n",
       "      <th>1</th>\n",
       "      <td>30_CULCHETH_5255</td>\n",
       "      <td>30</td>\n",
       "      <td>5255</td>\n",
       "      <td>TGI Fridays Ultimte Mudslide</td>\n",
       "      <td>1.75L</td>\n",
       "      <td>4466</td>\n",
       "      <td>AMERICAN VINTAGE BEVERAGE</td>\n",
       "      <td>8137</td>\n",
       "      <td>2015-12-22</td>\n",
       "      <td>2016-01-01</td>\n",
       "      <td>2016-01-07</td>\n",
       "      <td>2016-02-21</td>\n",
       "      <td>9.35</td>\n",
       "      <td>4</td>\n",
       "      <td>37.40</td>\n",
       "      <td>1</td>\n",
       "    </tr>\n",
       "    <tr>\n",
       "      <th>2</th>\n",
       "      <td>34_PITMERDEN_5215</td>\n",
       "      <td>34</td>\n",
       "      <td>5215</td>\n",
       "      <td>TGI Fridays Long Island Iced</td>\n",
       "      <td>1.75L</td>\n",
       "      <td>4466</td>\n",
       "      <td>AMERICAN VINTAGE BEVERAGE</td>\n",
       "      <td>8137</td>\n",
       "      <td>2015-12-22</td>\n",
       "      <td>2016-01-02</td>\n",
       "      <td>2016-01-07</td>\n",
       "      <td>2016-02-21</td>\n",
       "      <td>9.41</td>\n",
       "      <td>5</td>\n",
       "      <td>47.05</td>\n",
       "      <td>1</td>\n",
       "    </tr>\n",
       "    <tr>\n",
       "      <th>3</th>\n",
       "      <td>1_HARDERSFIELD_5255</td>\n",
       "      <td>1</td>\n",
       "      <td>5255</td>\n",
       "      <td>TGI Fridays Ultimte Mudslide</td>\n",
       "      <td>1.75L</td>\n",
       "      <td>4466</td>\n",
       "      <td>AMERICAN VINTAGE BEVERAGE</td>\n",
       "      <td>8137</td>\n",
       "      <td>2015-12-22</td>\n",
       "      <td>2016-01-01</td>\n",
       "      <td>2016-01-07</td>\n",
       "      <td>2016-02-21</td>\n",
       "      <td>9.35</td>\n",
       "      <td>6</td>\n",
       "      <td>56.10</td>\n",
       "      <td>1</td>\n",
       "    </tr>\n",
       "    <tr>\n",
       "      <th>4</th>\n",
       "      <td>76_DONCASTER_2034</td>\n",
       "      <td>76</td>\n",
       "      <td>2034</td>\n",
       "      <td>Glendalough Double Barrel</td>\n",
       "      <td>750mL</td>\n",
       "      <td>388</td>\n",
       "      <td>ATLANTIC IMPORTING COMPANY</td>\n",
       "      <td>8169</td>\n",
       "      <td>2015-12-24</td>\n",
       "      <td>2016-01-02</td>\n",
       "      <td>2016-01-09</td>\n",
       "      <td>2016-02-16</td>\n",
       "      <td>21.32</td>\n",
       "      <td>5</td>\n",
       "      <td>106.60</td>\n",
       "      <td>1</td>\n",
       "    </tr>\n",
       "  </tbody>\n",
       "</table>\n",
       "</div>"
      ],
      "text/plain": [
       "           InventoryId  Store  Brand                   Description   Size  \\\n",
       "0    69_MOUNTMEND_8412     69   8412     Tequila Ocho Plata Fresno  750mL   \n",
       "1     30_CULCHETH_5255     30   5255  TGI Fridays Ultimte Mudslide  1.75L   \n",
       "2    34_PITMERDEN_5215     34   5215  TGI Fridays Long Island Iced  1.75L   \n",
       "3  1_HARDERSFIELD_5255      1   5255  TGI Fridays Ultimte Mudslide  1.75L   \n",
       "4    76_DONCASTER_2034     76   2034     Glendalough Double Barrel  750mL   \n",
       "\n",
       "   VendorNumber                   VendorName  PONumber      PODate  \\\n",
       "0           105  ALTAMAR BRANDS LLC               8124  2015-12-21   \n",
       "1          4466  AMERICAN VINTAGE BEVERAGE        8137  2015-12-22   \n",
       "2          4466  AMERICAN VINTAGE BEVERAGE        8137  2015-12-22   \n",
       "3          4466  AMERICAN VINTAGE BEVERAGE        8137  2015-12-22   \n",
       "4           388  ATLANTIC IMPORTING COMPANY       8169  2015-12-24   \n",
       "\n",
       "  ReceivingDate InvoiceDate     PayDate  PurchasePrice  Quantity  Dollars  \\\n",
       "0    2016-01-02  2016-01-04  2016-02-16          35.71         6   214.26   \n",
       "1    2016-01-01  2016-01-07  2016-02-21           9.35         4    37.40   \n",
       "2    2016-01-02  2016-01-07  2016-02-21           9.41         5    47.05   \n",
       "3    2016-01-01  2016-01-07  2016-02-21           9.35         6    56.10   \n",
       "4    2016-01-02  2016-01-09  2016-02-16          21.32         5   106.60   \n",
       "\n",
       "   Classification  \n",
       "0               1  \n",
       "1               1  \n",
       "2               1  \n",
       "3               1  \n",
       "4               1  "
      ]
     },
     "execution_count": 4,
     "metadata": {},
     "output_type": "execute_result"
    }
   ],
   "source": [
    "#Visualizamos las primeras 5 filas\n",
    "Detalle_compra.head ()"
   ]
  },
  {
   "cell_type": "code",
   "execution_count": 5,
   "metadata": {},
   "outputs": [
    {
     "name": "stdout",
     "output_type": "stream",
     "text": [
      "InventoryId        object\n",
      "Store               int64\n",
      "Brand               int64\n",
      "Description        object\n",
      "Size               object\n",
      "VendorNumber        int64\n",
      "VendorName         object\n",
      "PONumber            int64\n",
      "PODate             object\n",
      "ReceivingDate      object\n",
      "InvoiceDate        object\n",
      "PayDate            object\n",
      "PurchasePrice     float64\n",
      "Quantity            int64\n",
      "Dollars           float64\n",
      "Classification      int64\n",
      "dtype: object\n"
     ]
    }
   ],
   "source": [
    "#Corroboramos el tipo de dato de las columnas\n",
    "print (Detalle_compra.dtypes)"
   ]
  },
  {
   "cell_type": "code",
   "execution_count": 6,
   "metadata": {},
   "outputs": [
    {
     "name": "stdout",
     "output_type": "stream",
     "text": [
      "InventoryId       0\n",
      "Store             0\n",
      "Brand             0\n",
      "Description       0\n",
      "Size              3\n",
      "VendorNumber      0\n",
      "VendorName        0\n",
      "PONumber          0\n",
      "PODate            0\n",
      "ReceivingDate     0\n",
      "InvoiceDate       0\n",
      "PayDate           0\n",
      "PurchasePrice     0\n",
      "Quantity          0\n",
      "Dollars           0\n",
      "Classification    0\n",
      "dtype: int64\n"
     ]
    }
   ],
   "source": [
    "#Verificamos la cantidad de datos faltantes por columna\n",
    "print(Detalle_compra.isnull().sum())"
   ]
  },
  {
   "cell_type": "code",
   "execution_count": 7,
   "metadata": {},
   "outputs": [
    {
     "name": "stdout",
     "output_type": "stream",
     "text": [
      "Filas con valores nulos encontradas:\n",
      "                 InventoryId  Store  Brand                 Description Size  \\\n",
      "1109668    34_PITMERDEN_3121     34   3121    Pinnacle Rainbow Sherbet  NaN   \n",
      "1112426    34_PITMERDEN_5678     34   5678      Skinnygirl Pina Colada  NaN   \n",
      "1116302  39_EASTHALLOW_15365     39  15365  Alabaster 07 Tinta de Toro  NaN   \n",
      "\n",
      "         VendorNumber                   VendorName  PONumber      PODate  \\\n",
      "1109668         12546  JIM BEAM BRANDS COMPANY         10938  2016-06-27   \n",
      "1112426         12546  JIM BEAM BRANDS COMPANY         10938  2016-06-27   \n",
      "1116302          9552  M S WALKER INC                  10972  2016-06-29   \n",
      "\n",
      "        ReceivingDate InvoiceDate     PayDate  PurchasePrice  Quantity  \\\n",
      "1109668    2016-07-04  2016-07-13  2016-08-16           6.93         7   \n",
      "1112426    2016-07-09  2016-07-13  2016-08-16           6.93         6   \n",
      "1116302    2016-07-07  2016-07-13  2016-08-21          91.83         1   \n",
      "\n",
      "         Dollars  Classification  \n",
      "1109668    48.51               1  \n",
      "1112426    41.58               1  \n",
      "1116302    91.83               2  \n"
     ]
    }
   ],
   "source": [
    "#Verificamos las filas con valores nulos\n",
    "Detalle_compra_filas_nulas = Detalle_compra.isnull().any(axis=1)\n",
    "\n",
    "#Mostramos las filas con valores nulos\n",
    "Detalle_compra_filas_con_nulos = Detalle_compra [Detalle_compra_filas_nulas]\n",
    "\n",
    "#Imprimimos las filas con valores nulos\n",
    "if not Detalle_compra_filas_con_nulos.empty:\n",
    "    print(\"Filas con valores nulos encontradas:\")\n",
    "    print(Detalle_compra_filas_con_nulos)\n",
    "else:\n",
    "    print(\"No se encontraron filas con valores nulos.\")"
   ]
  },
  {
   "cell_type": "code",
   "execution_count": 8,
   "metadata": {},
   "outputs": [
    {
     "name": "stdout",
     "output_type": "stream",
     "text": [
      "Número de filas duplicadas en la tabla Detalle compra: 0\n"
     ]
    }
   ],
   "source": [
    "# Verificamos si hay filas duplicadas\n",
    "filas_duplicadas = Detalle_compra.duplicated()\n",
    "\n",
    "# Contamos el número de filas duplicadas\n",
    "contar_filas_duplicadas = filas_duplicadas.sum()\n",
    "\n",
    "# Mostramos el número de filas duplicadas\n",
    "print(f'Número de filas duplicadas en la tabla Detalle compra: {contar_filas_duplicadas}')\n",
    "\n",
    "#Imprimimos\n",
    "if contar_filas_duplicadas > 0:\n",
    "    print(\"Filas duplicadas en la tabla Detalle compra:\")\n",
    "    print(Detalle_compra[filas_duplicadas])"
   ]
  },
  {
   "cell_type": "code",
   "execution_count": 9,
   "metadata": {},
   "outputs": [
    {
     "name": "stdout",
     "output_type": "stream",
     "text": [
      "InventoryId        object\n",
      "Store               int64\n",
      "Brand               int64\n",
      "Description        object\n",
      "Size               object\n",
      "VendorNumber        int64\n",
      "VendorName         object\n",
      "PONumber            int64\n",
      "PODate             object\n",
      "ReceivingDate      object\n",
      "InvoiceDate        object\n",
      "PayDate            object\n",
      "PurchasePrice     float64\n",
      "Quantity            int64\n",
      "Dollars           float64\n",
      "Classification      int64\n",
      "dtype: object\n"
     ]
    }
   ],
   "source": [
    "#Verificamos el tipo de dato de cada columna\n",
    "print(Detalle_compra.dtypes)"
   ]
  },
  {
   "cell_type": "code",
   "execution_count": 10,
   "metadata": {},
   "outputs": [
    {
     "name": "stdout",
     "output_type": "stream",
     "text": [
      "InventoryId        object\n",
      "Store               int64\n",
      "Brand               int64\n",
      "Description        object\n",
      "Size               object\n",
      "VendorNumber        int64\n",
      "VendorName         object\n",
      "PONumber            int64\n",
      "PODate             object\n",
      "ReceivingDate      object\n",
      "InvoiceDate        object\n",
      "PayDate            object\n",
      "PurchasePrice     float64\n",
      "Quantity            int64\n",
      "Dollars           float64\n",
      "Classification      int64\n",
      "dtype: object\n"
     ]
    }
   ],
   "source": [
    "#Convertimos las columnas que tienen dato fecha al formato correcto\n",
    "\n",
    "# Listamos las columnas a convertir\n",
    "date_columns = ['PODate', 'ReceivingDate', 'InvoiceDate', 'PayDate']\n",
    "\n",
    "# Convertimos las columnas a formato datetime con un ciclo For\n",
    "for col in date_columns:\n",
    "    Detalle_compra.loc[:, col] = pd.to_datetime(Detalle_compra.loc[:, col], errors='coerce')\n",
    "\n",
    "#Imprimimos para verificar los cambios\n",
    "print(Detalle_compra.dtypes) "
   ]
  },
  {
   "cell_type": "markdown",
   "metadata": {},
   "source": [
    "# 2. Trabajamos con los valores faltantes"
   ]
  },
  {
   "cell_type": "markdown",
   "metadata": {},
   "source": [
    "Revisamos los valores nulls de la columna Size"
   ]
  },
  {
   "cell_type": "code",
   "execution_count": 11,
   "metadata": {},
   "outputs": [
    {
     "name": "stdout",
     "output_type": "stream",
     "text": [
      "                 InventoryId  Store  Brand                 Description Size  \\\n",
      "1109668    34_PITMERDEN_3121     34   3121    Pinnacle Rainbow Sherbet  NaN   \n",
      "1112426    34_PITMERDEN_5678     34   5678      Skinnygirl Pina Colada  NaN   \n",
      "1116302  39_EASTHALLOW_15365     39  15365  Alabaster 07 Tinta de Toro  NaN   \n",
      "\n",
      "         VendorNumber                   VendorName  PONumber  \\\n",
      "1109668         12546  JIM BEAM BRANDS COMPANY         10938   \n",
      "1112426         12546  JIM BEAM BRANDS COMPANY         10938   \n",
      "1116302          9552  M S WALKER INC                  10972   \n",
      "\n",
      "                      PODate        ReceivingDate          InvoiceDate  \\\n",
      "1109668  2016-06-27 00:00:00  2016-07-04 00:00:00  2016-07-13 00:00:00   \n",
      "1112426  2016-06-27 00:00:00  2016-07-09 00:00:00  2016-07-13 00:00:00   \n",
      "1116302  2016-06-29 00:00:00  2016-07-07 00:00:00  2016-07-13 00:00:00   \n",
      "\n",
      "                     PayDate  PurchasePrice  Quantity  Dollars  Classification  \n",
      "1109668  2016-08-16 00:00:00           6.93         7    48.51               1  \n",
      "1112426  2016-08-16 00:00:00           6.93         6    41.58               1  \n",
      "1116302  2016-08-21 00:00:00          91.83         1    91.83               2  \n"
     ]
    }
   ],
   "source": [
    "#Filtramos las filas de Size que tiene valores nulos\n",
    "null_size_rows = Detalle_compra[Detalle_compra['Size'].isnull()]\n",
    "\n",
    "#Imprimimos las filas nulls\n",
    "print(null_size_rows)"
   ]
  },
  {
   "cell_type": "markdown",
   "metadata": {},
   "source": [
    "Observamos que tenemos 3 valores faltantes de un total de 2372474 y estos datos no son recuperables, por lo cual se opta por eliminar estos 3 registros"
   ]
  },
  {
   "cell_type": "code",
   "execution_count": 12,
   "metadata": {},
   "outputs": [],
   "source": [
    "#Eliminamos las filas con nulls\n",
    "Detalle_compra = Detalle_compra[Detalle_compra['Size'].notna()]\n"
   ]
  },
  {
   "cell_type": "code",
   "execution_count": 13,
   "metadata": {},
   "outputs": [
    {
     "name": "stdout",
     "output_type": "stream",
     "text": [
      "InventoryId       0\n",
      "Store             0\n",
      "Brand             0\n",
      "Description       0\n",
      "Size              0\n",
      "VendorNumber      0\n",
      "VendorName        0\n",
      "PONumber          0\n",
      "PODate            0\n",
      "ReceivingDate     0\n",
      "InvoiceDate       0\n",
      "PayDate           0\n",
      "PurchasePrice     0\n",
      "Quantity          0\n",
      "Dollars           0\n",
      "Classification    0\n",
      "dtype: int64\n"
     ]
    }
   ],
   "source": [
    "#Verificamos la cantidad de datos faltantes por columna\n",
    "print(Detalle_compra.isnull().sum())"
   ]
  },
  {
   "cell_type": "code",
   "execution_count": 14,
   "metadata": {},
   "outputs": [
    {
     "data": {
      "text/plain": [
       "(2372471, 16)"
      ]
     },
     "execution_count": 14,
     "metadata": {},
     "output_type": "execute_result"
    }
   ],
   "source": [
    "#Comprobamos la cantidad de registros \n",
    "np.shape (Detalle_compra)"
   ]
  },
  {
   "cell_type": "code",
   "execution_count": 15,
   "metadata": {},
   "outputs": [
    {
     "name": "stdout",
     "output_type": "stream",
     "text": [
      "No hay valores negativos en el nuestro Dataframe.\n"
     ]
    }
   ],
   "source": [
    "# Verificamos si hay valores negativos en las columnas numéricas\n",
    "negativos = Detalle_compra.select_dtypes(include=['number']) < 0\n",
    "\n",
    "#Imprimimos los nombres de las columnas que tienen valores negativos\n",
    "negativos_columna = negativos.any()\n",
    "\n",
    "# Filtramos las columnas que tienen al menos un valor negativo\n",
    "columnas_con_negativos = negativos_columna[negativos_columna].index.tolist()\n",
    "\n",
    "# Imprimimos los resultados\n",
    "if columnas_con_negativos:\n",
    "    print(f\"Columnas con valores negativos: {columnas_con_negativos}\")\n",
    "    for column in columnas_con_negativos:\n",
    "        print(f\"\\nValores negativos en la columna '{column}':\")\n",
    "        print(Detalle_compra[Detalle_compra[column] < 0])\n",
    "else:\n",
    "    print(\"No hay valores negativos en el nuestro Dataframe.\")"
   ]
  },
  {
   "cell_type": "markdown",
   "metadata": {},
   "source": [
    "# 3. EDA (Análisis Exploratorio de Datos) es una etapa crucial en el análisis de datos.\n",
    "En este punto, trataremos de explorar y entender los datos, es el proceso de examinar y resumir las principales características de un conjunto de datos.. El EDA implica varias técnicas y herramientas que te ayudan a obtener una visión clara de la estructura y las características de tus datos.\n",
    "El objetivo es identificar patrones y detectar valores atípicos."
   ]
  },
  {
   "cell_type": "code",
   "execution_count": 16,
   "metadata": {},
   "outputs": [
    {
     "name": "stdout",
     "output_type": "stream",
     "text": [
      "InventoryId\n",
      "count               2372471\n",
      "unique               245906\n",
      "top       73_DONCASTER_8068\n",
      "freq                    180\n",
      "Name: InventoryId, dtype: object\n",
      "------------------------\n",
      "Store\n",
      "count    2.372471e+06\n",
      "mean     4.465134e+01\n",
      "std      2.351246e+01\n",
      "min      1.000000e+00\n",
      "25%      2.500000e+01\n",
      "50%      4.800000e+01\n",
      "75%      6.700000e+01\n",
      "max      8.100000e+01\n",
      "Name: Store, dtype: float64\n",
      "------------------------\n",
      "Brand\n",
      "count    2.372471e+06\n",
      "mean     1.241865e+04\n",
      "std      1.255728e+04\n",
      "min      5.800000e+01\n",
      "25%      3.639000e+03\n",
      "50%      6.523000e+03\n",
      "75%      1.887700e+04\n",
      "max      9.063100e+04\n",
      "Name: Brand, dtype: float64\n",
      "------------------------\n",
      "Description\n",
      "count                   2372471\n",
      "unique                     9651\n",
      "top       Tito's Handmade Vodka\n",
      "freq                      16442\n",
      "Name: Description, dtype: object\n",
      "------------------------\n",
      "Size\n",
      "count     2372471\n",
      "unique         51\n",
      "top         750mL\n",
      "freq      1207700\n",
      "Name: Size, dtype: object\n",
      "------------------------\n",
      "VendorNumber\n",
      "count    2.372471e+06\n",
      "mean     6.886430e+03\n",
      "std      8.066697e+03\n",
      "min      2.000000e+00\n",
      "25%      3.252000e+03\n",
      "50%      4.425000e+03\n",
      "75%      9.552000e+03\n",
      "max      2.013590e+05\n",
      "Name: VendorNumber, dtype: float64\n",
      "------------------------\n",
      "VendorName\n",
      "count                         2372471\n",
      "unique                            129\n",
      "top       DIAGEO NORTH AMERICA INC   \n",
      "freq                           243326\n",
      "Name: VendorName, dtype: object\n",
      "------------------------\n",
      "PONumber\n",
      "count    2.372471e+06\n",
      "mean     1.104094e+04\n",
      "std      1.565341e+03\n",
      "min      8.106000e+03\n",
      "25%      9.761000e+03\n",
      "50%      1.110300e+04\n",
      "75%      1.239700e+04\n",
      "max      1.366100e+04\n",
      "Name: PONumber, dtype: float64\n",
      "------------------------\n",
      "PODate\n"
     ]
    },
    {
     "name": "stderr",
     "output_type": "stream",
     "text": [
      "C:\\Users\\Win10\\AppData\\Local\\Temp\\ipykernel_11648\\3175093433.py:4: FutureWarning: The behavior of value_counts with object-dtype is deprecated. In a future version, this will *not* perform dtype inference on the resulting index. To retain the old behavior, use `result.index = result.index.infer_objects()`\n",
      "  print(Detalle_compra[i].describe())\n"
     ]
    },
    {
     "name": "stdout",
     "output_type": "stream",
     "text": [
      "count                 2372471\n",
      "unique                    319\n",
      "top       2016-06-27 00:00:00\n",
      "freq                    24750\n",
      "Name: PODate, dtype: object\n",
      "------------------------\n",
      "ReceivingDate\n",
      "count                 2372471\n",
      "unique                    364\n",
      "top       2016-07-05 00:00:00\n",
      "freq                    19640\n",
      "Name: ReceivingDate, dtype: object\n",
      "------------------------\n",
      "InvoiceDate\n"
     ]
    },
    {
     "name": "stderr",
     "output_type": "stream",
     "text": [
      "C:\\Users\\Win10\\AppData\\Local\\Temp\\ipykernel_11648\\3175093433.py:4: FutureWarning: The behavior of value_counts with object-dtype is deprecated. In a future version, this will *not* perform dtype inference on the resulting index. To retain the old behavior, use `result.index = result.index.infer_objects()`\n",
      "  print(Detalle_compra[i].describe())\n",
      "C:\\Users\\Win10\\AppData\\Local\\Temp\\ipykernel_11648\\3175093433.py:4: FutureWarning: The behavior of value_counts with object-dtype is deprecated. In a future version, this will *not* perform dtype inference on the resulting index. To retain the old behavior, use `result.index = result.index.infer_objects()`\n",
      "  print(Detalle_compra[i].describe())\n"
     ]
    },
    {
     "name": "stdout",
     "output_type": "stream",
     "text": [
      "count                 2372471\n",
      "unique                    373\n",
      "top       2016-08-16 00:00:00\n",
      "freq                    29989\n",
      "Name: InvoiceDate, dtype: object\n",
      "------------------------\n",
      "PayDate\n"
     ]
    },
    {
     "name": "stderr",
     "output_type": "stream",
     "text": [
      "C:\\Users\\Win10\\AppData\\Local\\Temp\\ipykernel_11648\\3175093433.py:4: FutureWarning: The behavior of value_counts with object-dtype is deprecated. In a future version, this will *not* perform dtype inference on the resulting index. To retain the old behavior, use `result.index = result.index.infer_objects()`\n",
      "  print(Detalle_compra[i].describe())\n"
     ]
    },
    {
     "name": "stdout",
     "output_type": "stream",
     "text": [
      "count                 2372471\n",
      "unique                    382\n",
      "top       2016-09-10 00:00:00\n",
      "freq                    19713\n",
      "Name: PayDate, dtype: object\n",
      "------------------------\n",
      "PurchasePrice\n",
      "count    2.372471e+06\n",
      "mean     1.205002e+01\n",
      "std      1.794504e+01\n",
      "min      0.000000e+00\n",
      "25%      6.120000e+00\n",
      "50%      9.220000e+00\n",
      "75%      1.449000e+01\n",
      "max      5.681810e+03\n",
      "Name: PurchasePrice, dtype: float64\n",
      "------------------------\n",
      "Quantity\n",
      "count    2.372471e+06\n",
      "mean     1.415586e+01\n",
      "std      2.344617e+01\n",
      "min      1.000000e+00\n",
      "25%      6.000000e+00\n",
      "50%      1.000000e+01\n",
      "75%      1.200000e+01\n",
      "max      3.816000e+03\n",
      "Name: Quantity, dtype: float64\n",
      "------------------------\n",
      "Dollars\n",
      "count    2.372471e+06\n",
      "mean     1.356816e+02\n",
      "std      2.816651e+02\n",
      "min      0.000000e+00\n",
      "25%      4.926000e+01\n",
      "50%      8.393000e+01\n",
      "75%      1.405200e+02\n",
      "max      5.017570e+04\n",
      "Name: Dollars, dtype: float64\n",
      "------------------------\n",
      "Classification\n",
      "count    2.372471e+06\n",
      "mean     1.443520e+00\n",
      "std      4.967999e-01\n",
      "min      1.000000e+00\n",
      "25%      1.000000e+00\n",
      "50%      1.000000e+00\n",
      "75%      2.000000e+00\n",
      "max      2.000000e+00\n",
      "Name: Classification, dtype: float64\n",
      "------------------------\n"
     ]
    }
   ],
   "source": [
    "#Aplicamos un ciclo For para iterar sobre cada columna de nuestro dataframe\n",
    "for i in Detalle_compra.columns:\n",
    "    print(i)\n",
    "    print(Detalle_compra[i].describe()) \n",
    "    print('------------------------')"
   ]
  },
  {
   "cell_type": "code",
   "execution_count": 17,
   "metadata": {},
   "outputs": [
    {
     "name": "stdout",
     "output_type": "stream",
     "text": [
      "Top 10 Tiendas con Mayor Cantidad de Pedidos:\n",
      "    Tienda  Cantidad de Pedidos\n",
      "0       76               121123\n",
      "1       73                96794\n",
      "2       38                93412\n",
      "3       34                92111\n",
      "4       66                82699\n",
      "5       67                69419\n",
      "6       50                65512\n",
      "7       69                63683\n",
      "8       60                58169\n",
      "9       41                53344\n",
      "10      15                51844\n"
     ]
    }
   ],
   "source": [
    "# Contamos la cantidad de pedidos por tienda\n",
    "pedidos_por_tienda = Detalle_compra['Store'].value_counts().reset_index()\n",
    "pedidos_por_tienda.columns = ['Tienda', 'Cantidad de Pedidos']\n",
    "\n",
    "# Seleccionar las 10 tiendas con mayor cantidad de pedidos\n",
    "top_tiendas = pedidos_por_tienda.head(11)\n",
    "\n",
    "# Mostrar la tabla de las 10 tiendas con mayor cantidad de pedidos\n",
    "print(\"Top 10 Tiendas con Mayor Cantidad de Pedidos:\")\n",
    "print(top_tiendas)"
   ]
  },
  {
   "cell_type": "code",
   "execution_count": 18,
   "metadata": {},
   "outputs": [
    {
     "name": "stdout",
     "output_type": "stream",
     "text": [
      "Órdenes con múltiples fechas de entrega:\n",
      "      PONumber  ReceivingDate\n",
      "0         8106              3\n",
      "1         8107              2\n",
      "2         8108              3\n",
      "3         8109              3\n",
      "4         8110              3\n",
      "...        ...            ...\n",
      "5538     13657              6\n",
      "5539     13658              6\n",
      "5540     13659              5\n",
      "5541     13660              4\n",
      "5542     13661              6\n",
      "\n",
      "[5000 rows x 2 columns]\n"
     ]
    }
   ],
   "source": [
    "# Analizamos si las ordenes tienes distintas fechas de entrega\n",
    "\n",
    "#Agrupamos por PONumber y contamos las fechas de entrega únicas para cada orden\n",
    "po_receiving_dates = Detalle_compra.groupby('PONumber')['ReceivingDate'].nunique().reset_index()\n",
    "\n",
    "# Filtramos las órdenes que tienen más de una fecha de entrega\n",
    "multiple_receiving_dates = po_receiving_dates[po_receiving_dates['ReceivingDate'] > 1]\n",
    "\n",
    "#Imprimimos\n",
    "print(\"Órdenes con múltiples fechas de entrega:\")\n",
    "print(multiple_receiving_dates)"
   ]
  },
  {
   "cell_type": "code",
   "execution_count": 19,
   "metadata": {},
   "outputs": [
    {
     "name": "stdout",
     "output_type": "stream",
     "text": [
      "Top 10 Productos Más Costosos:\n",
      "   Brand                   Description  PurchasePrice\n",
      "0   3949     Patron En Lalique Tequila        5681.81\n",
      "1   3949     Patron En Lalique Tequila        5681.81\n",
      "2   3949     Patron En Lalique Tequila        5681.81\n",
      "3   2367            Glenmorangie Pride        4264.70\n",
      "4   2367            Glenmorangie Pride        4264.70\n",
      "5    423       Hennessy Richard Cognac        3352.93\n",
      "6    423       Hennessy Richard Cognac        3352.93\n",
      "7    423       Hennessy Richard Cognac        3352.93\n",
      "8   8385  Glenfiddich 1978 Rare Collct        2713.17\n",
      "9   1251  Port Ellen 32 Yr Single Malt        2661.86\n",
      "\n",
      "Top 10 Productos Más Costosos:\n",
      "   Brand                   Description  PurchasePrice\n",
      "0   3949     Patron En Lalique Tequila        5681.81\n",
      "1   3949     Patron En Lalique Tequila        5681.81\n",
      "2   3949     Patron En Lalique Tequila        5681.81\n",
      "3   2367            Glenmorangie Pride        4264.70\n",
      "4   2367            Glenmorangie Pride        4264.70\n",
      "5    423       Hennessy Richard Cognac        3352.93\n",
      "6    423       Hennessy Richard Cognac        3352.93\n",
      "7    423       Hennessy Richard Cognac        3352.93\n",
      "8   8385  Glenfiddich 1978 Rare Collct        2713.17\n",
      "9   1251  Port Ellen 32 Yr Single Malt        2661.86\n"
     ]
    }
   ],
   "source": [
    "# Generamos el Top 10 Productos Más Costosos\n",
    "top_costosos = Detalle_compra[['Brand', 'Description', 'PurchasePrice']].nlargest(10, 'PurchasePrice').reset_index(drop=True)\n",
    "print(\"Top 10 Productos Más Costosos:\")\n",
    "print(top_costosos)\n",
    "\n",
    "#Y tambien la tabla de los 10 productos más costosos\n",
    "top_costosos_table = top_costosos[['Brand', 'Description', 'PurchasePrice']]\n",
    "print(\"\\nTop 10 Productos Más Costosos:\")\n",
    "print(top_costosos_table)"
   ]
  },
  {
   "cell_type": "code",
   "execution_count": 20,
   "metadata": {},
   "outputs": [
    {
     "name": "stdout",
     "output_type": "stream",
     "text": [
      "InventoryId        object\n",
      "Store               int64\n",
      "Brand               int64\n",
      "Description        object\n",
      "Size               object\n",
      "VendorNumber        int64\n",
      "VendorName         object\n",
      "PONumber            int64\n",
      "PODate             object\n",
      "ReceivingDate      object\n",
      "InvoiceDate        object\n",
      "PayDate            object\n",
      "PurchasePrice     float64\n",
      "Quantity            int64\n",
      "Dollars           float64\n",
      "Classification      int64\n",
      "dtype: object\n"
     ]
    }
   ],
   "source": [
    "#Imprimimos para verificar los cambios\n",
    "print(Detalle_compra.dtypes) "
   ]
  },
  {
   "cell_type": "code",
   "execution_count": 21,
   "metadata": {},
   "outputs": [
    {
     "name": "stdout",
     "output_type": "stream",
     "text": [
      "\n",
      "Estadísticas para la columna 'PODate':\n",
      "Número total de valores: 2372471\n",
      "Número total de valores: 2372471\n"
     ]
    },
    {
     "name": "stderr",
     "output_type": "stream",
     "text": [
      "C:\\Users\\Win10\\AppData\\Local\\Temp\\ipykernel_11648\\3685280733.py:9: FutureWarning: The behavior of value_counts with object-dtype is deprecated. In a future version, this will *not* perform dtype inference on the resulting index. To retain the old behavior, use `result.index = result.index.infer_objects()`\n",
      "  column_stats = df[column].describe()\n"
     ]
    },
    {
     "name": "stdout",
     "output_type": "stream",
     "text": [
      "Valor mínimo: 2015-12-20 00:00:00\n",
      "Valor máximo: 2016-12-23 00:00:00\n",
      "\n",
      "Estadísticas para la columna 'ReceivingDate':\n",
      "Número total de valores: 2372471\n",
      "Número total de valores: 2372471\n"
     ]
    },
    {
     "name": "stderr",
     "output_type": "stream",
     "text": [
      "C:\\Users\\Win10\\AppData\\Local\\Temp\\ipykernel_11648\\3685280733.py:9: FutureWarning: The behavior of value_counts with object-dtype is deprecated. In a future version, this will *not* perform dtype inference on the resulting index. To retain the old behavior, use `result.index = result.index.infer_objects()`\n",
      "  column_stats = df[column].describe()\n"
     ]
    },
    {
     "name": "stdout",
     "output_type": "stream",
     "text": [
      "Valor mínimo: 2016-01-01 00:00:00\n",
      "Valor máximo: 2016-12-31 00:00:00\n",
      "\n",
      "Estadísticas para la columna 'InvoiceDate':\n",
      "Número total de valores: 2372471\n",
      "Número total de valores: 2372471\n"
     ]
    },
    {
     "name": "stderr",
     "output_type": "stream",
     "text": [
      "C:\\Users\\Win10\\AppData\\Local\\Temp\\ipykernel_11648\\3685280733.py:9: FutureWarning: The behavior of value_counts with object-dtype is deprecated. In a future version, this will *not* perform dtype inference on the resulting index. To retain the old behavior, use `result.index = result.index.infer_objects()`\n",
      "  column_stats = df[column].describe()\n"
     ]
    },
    {
     "name": "stdout",
     "output_type": "stream",
     "text": [
      "Valor mínimo: 2016-01-04 00:00:00\n",
      "Valor máximo: 2017-01-10 00:00:00\n",
      "\n",
      "Estadísticas para la columna 'PayDate':\n",
      "Número total de valores: 2372471\n",
      "Número total de valores: 2372471\n"
     ]
    },
    {
     "name": "stderr",
     "output_type": "stream",
     "text": [
      "C:\\Users\\Win10\\AppData\\Local\\Temp\\ipykernel_11648\\3685280733.py:9: FutureWarning: The behavior of value_counts with object-dtype is deprecated. In a future version, this will *not* perform dtype inference on the resulting index. To retain the old behavior, use `result.index = result.index.infer_objects()`\n",
      "  column_stats = df[column].describe()\n"
     ]
    },
    {
     "name": "stdout",
     "output_type": "stream",
     "text": [
      "Valor mínimo: 2016-02-04 00:00:00\n",
      "Valor máximo: 2017-02-19 00:00:00\n"
     ]
    }
   ],
   "source": [
    "#Vamos a analizar las distintas fechas de nuestra tabla\n",
    "#Definimos una lista de columnas de fechas\n",
    "columns_of_interest = ['PODate', 'ReceivingDate', 'InvoiceDate', 'PayDate']\n",
    "\n",
    "#Creamos la función para imprimir las estadísticas de una columna\n",
    "def print_column_stats(df, column):\n",
    "    print(f\"\\nEstadísticas para la columna '{column}':\")\n",
    "    print(f\"Número total de valores: {len(df[column])}\")\n",
    "    column_stats = df[column].describe()\n",
    "    print(f\"Número total de valores: {column_stats['count']}\")\n",
    "    print(f\"Valor mínimo: {df[column].min()}\")\n",
    "    print(f\"Valor máximo: {df[column].max()}\")\n",
    "\n",
    "# Iteramos con un ciclo For sobre las columnas e imprimimos\n",
    "for column in columns_of_interest:\n",
    "    print_column_stats(Detalle_compra, column)"
   ]
  },
  {
   "cell_type": "code",
   "execution_count": 22,
   "metadata": {},
   "outputs": [
    {
     "name": "stdout",
     "output_type": "stream",
     "text": [
      "\n",
      "Estadísticas para la columna 'Store':\n",
      "Número total de valores: 2372471\n",
      "Número total de valores: 2372471.0\n",
      "Número de valores únicos: 80\n",
      "Valor más frecuente (top): 76\n",
      "Frecuencia del valor más frecuente: 121123\n",
      "Valor mínimo: 1.0\n",
      "Valor máximo: 81.0\n",
      "Media: 44.65133904692618\n",
      "\n",
      "Estadísticas para la columna 'Brand':\n",
      "Número total de valores: 2372471\n",
      "Número total de valores: 2372471.0\n",
      "Número de valores únicos: 10663\n",
      "Valor más frecuente (top): 8068\n",
      "Frecuencia del valor más frecuente: 7359\n",
      "Valor mínimo: 58.0\n",
      "Valor máximo: 90631.0\n",
      "Media: 12418.646627925062\n",
      "\n",
      "Estadísticas para la columna 'VendorNumber':\n",
      "Número total de valores: 2372471\n",
      "Número total de valores: 2372471.0\n",
      "Número de valores únicos: 126\n",
      "Valor más frecuente (top): 3960\n",
      "Frecuencia del valor más frecuente: 243326\n",
      "Valor mínimo: 2.0\n",
      "Valor máximo: 201359.0\n",
      "Media: 6886.429638549849\n"
     ]
    }
   ],
   "source": [
    "#Analizamos las columnas que nos aportan otro tipo de dato significativo\n",
    "#Creamos una lista\n",
    "columns_of_interest = ['Store', 'Brand', 'VendorNumber']\n",
    "\n",
    "#Definimos la función para imprimir las estadísticas\n",
    "def print_column_stats(df, column):\n",
    "    print(f\"\\nEstadísticas para la columna '{column}':\")\n",
    "    print(f\"Número total de valores: {len(df[column])}\")\n",
    "    column_stats = df[column].describe()\n",
    "    print(f\"Número total de valores: {column_stats['count']}\")\n",
    "    print(f\"Número de valores únicos: {df[column].nunique()}\")\n",
    "    print(f\"Valor más frecuente (top): {df[column].mode()[0]}\")\n",
    "    print(f\"Frecuencia del valor más frecuente: {df[column].value_counts().iloc[0]}\")\n",
    "    print(f\"Valor mínimo: {column_stats['min']}\")\n",
    "    print(f\"Valor máximo: {column_stats['max']}\")\n",
    "    print(f\"Media: {column_stats['mean']}\")\n",
    "\n",
    "# Iteramos con un ciclo For sobre las columnas e imprimimos\n",
    "for column in columns_of_interest:\n",
    "    print_column_stats(Detalle_compra, column)"
   ]
  },
  {
   "cell_type": "code",
   "execution_count": 23,
   "metadata": {},
   "outputs": [
    {
     "name": "stdout",
     "output_type": "stream",
     "text": [
      "\n",
      "Estadísticas para la columna 'PurchasePrice':\n",
      "Número total de valores: 2372471\n",
      "Número total de valores: 2372471.0\n",
      "Número de valores únicos: 2151\n",
      "Valor más frecuente (top): 5.84\n",
      "Frecuencia del valor más frecuente: 21743\n",
      "Valor mínimo: 0.0\n",
      "Valor máximo: 5681.81\n",
      "Media: 12.05002078845221\n",
      "\n",
      "Estadísticas para la columna 'Dollars':\n",
      "Número total de valores: 2372471\n",
      "Número total de valores: 2372471.0\n",
      "Número de valores únicos: 33567\n",
      "Valor más frecuente (top): 39.96\n",
      "Frecuencia del valor más frecuente: 7595\n",
      "Valor mínimo: 0.0\n",
      "Valor máximo: 50175.7\n",
      "Media: 135.68156728153897\n"
     ]
    }
   ],
   "source": [
    "#Analizamos las columnas con tipo de dato float\n",
    "#Creamos una lista\n",
    "columns_of_interest = ['PurchasePrice', 'Dollars']\n",
    "\n",
    "#Definimos la función para imprimir las estadísticas\n",
    "def print_column_stats(df, column):\n",
    "    print(f\"\\nEstadísticas para la columna '{column}':\")\n",
    "    print(f\"Número total de valores: {len(df[column])}\")\n",
    "    column_stats = df[column].describe()\n",
    "    print(f\"Número total de valores: {column_stats['count']}\")\n",
    "    print(f\"Número de valores únicos: {df[column].nunique()}\")\n",
    "    print(f\"Valor más frecuente (top): {df[column].mode()[0]}\")\n",
    "    print(f\"Frecuencia del valor más frecuente: {df[column].value_counts().iloc[0]}\")\n",
    "    print(f\"Valor mínimo: {column_stats['min']}\")\n",
    "    print(f\"Valor máximo: {column_stats['max']}\")\n",
    "    print(f\"Media: {column_stats['mean']}\")\n",
    "\n",
    "# Iteramos con un ciclo For sobre las columnas e imprimimos\n",
    "for column in columns_of_interest:\n",
    "    print_column_stats(Detalle_compra, column)"
   ]
  },
  {
   "cell_type": "code",
   "execution_count": 24,
   "metadata": {},
   "outputs": [
    {
     "name": "stdout",
     "output_type": "stream",
     "text": [
      "Número de celdas con precio=0 en la columna 'PurchasePrice' es : 153\n"
     ]
    }
   ],
   "source": [
    "#Contamos cuantas celdas hay con precio=0 en la columna 'Purchaseprice\n",
    "zero_price_count = (Detalle_compra['PurchasePrice'] == 0).sum()\n",
    "\n",
    "#Imprimimos\n",
    "print(f\"Número de celdas con precio=0 en la columna 'PurchasePrice' es : {zero_price_count}\")"
   ]
  },
  {
   "cell_type": "code",
   "execution_count": 25,
   "metadata": {},
   "outputs": [
    {
     "name": "stdout",
     "output_type": "stream",
     "text": [
      "                   Description  Brand  VendorNumber  count\n",
      "0  The Macallan Double Cask 12   2166          2561    153\n"
     ]
    }
   ],
   "source": [
    "# Filtramos las filas donde 'PurchasePrice' es igual a 0\n",
    "zero_price_rows = Detalle_compra[Detalle_compra['PurchasePrice'] == 0]\n",
    "\n",
    "# Verificar si son el mismo producto \n",
    "grouped = zero_price_rows.groupby(['Description', 'Brand', 'VendorNumber']).size().reset_index(name='count')\n",
    "\n",
    "#Imprimimos\n",
    "print(grouped)"
   ]
  },
  {
   "cell_type": "code",
   "execution_count": 26,
   "metadata": {},
   "outputs": [
    {
     "name": "stdout",
     "output_type": "stream",
     "text": [
      "\n",
      "Filas antes de la actualización:\n",
      "                   InventoryId  Store  Brand                  Description  \\\n",
      "1369009    59_CLAETHORPES_2166     59   2166  The Macallan Double Cask 12   \n",
      "1369018      38_GOULCREST_2166     38   2166  The Macallan Double Cask 12   \n",
      "1369031      34_PITMERDEN_2166     34   2166  The Macallan Double Cask 12   \n",
      "1369032     44_PORTHCRAWL_2166     44   2166  The Macallan Double Cask 12   \n",
      "1369033  56_BEGGAR'S HOLE_2166     56   2166  The Macallan Double Cask 12   \n",
      "...                        ...    ...    ...                          ...   \n",
      "2278896     39_EASTHALLOW_2166     39   2166  The Macallan Double Cask 12   \n",
      "2278909      38_GOULCREST_2166     38   2166  The Macallan Double Cask 12   \n",
      "2278922       9_BLACKPOOL_2166      9   2166  The Macallan Double Cask 12   \n",
      "2278954    20_BREDWARDINE_2166     20   2166  The Macallan Double Cask 12   \n",
      "2278958        31_HORNSEY_2166     31   2166  The Macallan Double Cask 12   \n",
      "\n",
      "          Size  VendorNumber                   VendorName  PONumber  \\\n",
      "1369009  750mL          2561  EDRINGTON AMERICAS              11462   \n",
      "1369018  750mL          2561  EDRINGTON AMERICAS              11462   \n",
      "1369031  750mL          2561  EDRINGTON AMERICAS              11462   \n",
      "1369032  750mL          2561  EDRINGTON AMERICAS              11462   \n",
      "1369033  750mL          2561  EDRINGTON AMERICAS              11462   \n",
      "...        ...           ...                          ...       ...   \n",
      "2278896  750mL          2561  EDRINGTON AMERICAS              13506   \n",
      "2278909  750mL          2561  EDRINGTON AMERICAS              13506   \n",
      "2278922  750mL          2561  EDRINGTON AMERICAS              13506   \n",
      "2278954  750mL          2561  EDRINGTON AMERICAS              13506   \n",
      "2278958  750mL          2561  EDRINGTON AMERICAS              13506   \n",
      "\n",
      "                      PODate        ReceivingDate          InvoiceDate  \\\n",
      "1369009  2016-08-02 00:00:00  2016-08-10 00:00:00  2016-08-22 00:00:00   \n",
      "1369018  2016-08-02 00:00:00  2016-08-11 00:00:00  2016-08-22 00:00:00   \n",
      "1369031  2016-08-02 00:00:00  2016-08-09 00:00:00  2016-08-22 00:00:00   \n",
      "1369032  2016-08-02 00:00:00  2016-08-08 00:00:00  2016-08-22 00:00:00   \n",
      "1369033  2016-08-02 00:00:00  2016-08-09 00:00:00  2016-08-22 00:00:00   \n",
      "...                      ...                  ...                  ...   \n",
      "2278896  2016-12-14 00:00:00  2016-12-19 00:00:00  2016-12-28 00:00:00   \n",
      "2278909  2016-12-14 00:00:00  2016-12-20 00:00:00  2016-12-28 00:00:00   \n",
      "2278922  2016-12-14 00:00:00  2016-12-19 00:00:00  2016-12-28 00:00:00   \n",
      "2278954  2016-12-14 00:00:00  2016-12-19 00:00:00  2016-12-28 00:00:00   \n",
      "2278958  2016-12-14 00:00:00  2016-12-19 00:00:00  2016-12-28 00:00:00   \n",
      "\n",
      "                     PayDate  PurchasePrice  Quantity  Dollars  Classification  \n",
      "1369009  2016-10-01 00:00:00            0.0        12      0.0               1  \n",
      "1369018  2016-10-01 00:00:00            0.0        12      0.0               1  \n",
      "1369031  2016-10-01 00:00:00            0.0        12      0.0               1  \n",
      "1369032  2016-10-01 00:00:00            0.0        12      0.0               1  \n",
      "1369033  2016-10-01 00:00:00            0.0        12      0.0               1  \n",
      "...                      ...            ...       ...      ...             ...  \n",
      "2278896  2017-02-03 00:00:00            0.0        12      0.0               1  \n",
      "2278909  2017-02-03 00:00:00            0.0        10      0.0               1  \n",
      "2278922  2017-02-03 00:00:00            0.0        12      0.0               1  \n",
      "2278954  2017-02-03 00:00:00            0.0        12      0.0               1  \n",
      "2278958  2017-02-03 00:00:00            0.0        12      0.0               1  \n",
      "\n",
      "[153 rows x 16 columns]\n",
      "\n",
      "Valor medio de PurchasePrice: 12.05\n",
      "\n",
      "Filas después de la actualización:\n",
      "                   InventoryId  Store  Brand                  Description  \\\n",
      "1369009    59_CLAETHORPES_2166     59   2166  The Macallan Double Cask 12   \n",
      "1369018      38_GOULCREST_2166     38   2166  The Macallan Double Cask 12   \n",
      "1369031      34_PITMERDEN_2166     34   2166  The Macallan Double Cask 12   \n",
      "1369032     44_PORTHCRAWL_2166     44   2166  The Macallan Double Cask 12   \n",
      "1369033  56_BEGGAR'S HOLE_2166     56   2166  The Macallan Double Cask 12   \n",
      "...                        ...    ...    ...                          ...   \n",
      "2278896     39_EASTHALLOW_2166     39   2166  The Macallan Double Cask 12   \n",
      "2278909      38_GOULCREST_2166     38   2166  The Macallan Double Cask 12   \n",
      "2278922       9_BLACKPOOL_2166      9   2166  The Macallan Double Cask 12   \n",
      "2278954    20_BREDWARDINE_2166     20   2166  The Macallan Double Cask 12   \n",
      "2278958        31_HORNSEY_2166     31   2166  The Macallan Double Cask 12   \n",
      "\n",
      "          Size  VendorNumber                   VendorName  PONumber  \\\n",
      "1369009  750mL          2561  EDRINGTON AMERICAS              11462   \n",
      "1369018  750mL          2561  EDRINGTON AMERICAS              11462   \n",
      "1369031  750mL          2561  EDRINGTON AMERICAS              11462   \n",
      "1369032  750mL          2561  EDRINGTON AMERICAS              11462   \n",
      "1369033  750mL          2561  EDRINGTON AMERICAS              11462   \n",
      "...        ...           ...                          ...       ...   \n",
      "2278896  750mL          2561  EDRINGTON AMERICAS              13506   \n",
      "2278909  750mL          2561  EDRINGTON AMERICAS              13506   \n",
      "2278922  750mL          2561  EDRINGTON AMERICAS              13506   \n",
      "2278954  750mL          2561  EDRINGTON AMERICAS              13506   \n",
      "2278958  750mL          2561  EDRINGTON AMERICAS              13506   \n",
      "\n",
      "                      PODate        ReceivingDate          InvoiceDate  \\\n",
      "1369009  2016-08-02 00:00:00  2016-08-10 00:00:00  2016-08-22 00:00:00   \n",
      "1369018  2016-08-02 00:00:00  2016-08-11 00:00:00  2016-08-22 00:00:00   \n",
      "1369031  2016-08-02 00:00:00  2016-08-09 00:00:00  2016-08-22 00:00:00   \n",
      "1369032  2016-08-02 00:00:00  2016-08-08 00:00:00  2016-08-22 00:00:00   \n",
      "1369033  2016-08-02 00:00:00  2016-08-09 00:00:00  2016-08-22 00:00:00   \n",
      "...                      ...                  ...                  ...   \n",
      "2278896  2016-12-14 00:00:00  2016-12-19 00:00:00  2016-12-28 00:00:00   \n",
      "2278909  2016-12-14 00:00:00  2016-12-20 00:00:00  2016-12-28 00:00:00   \n",
      "2278922  2016-12-14 00:00:00  2016-12-19 00:00:00  2016-12-28 00:00:00   \n",
      "2278954  2016-12-14 00:00:00  2016-12-19 00:00:00  2016-12-28 00:00:00   \n",
      "2278958  2016-12-14 00:00:00  2016-12-19 00:00:00  2016-12-28 00:00:00   \n",
      "\n",
      "                     PayDate  PurchasePrice  Quantity  Dollars  Classification  \n",
      "1369009  2016-10-01 00:00:00          12.05        12      0.0               1  \n",
      "1369018  2016-10-01 00:00:00          12.05        12      0.0               1  \n",
      "1369031  2016-10-01 00:00:00          12.05        12      0.0               1  \n",
      "1369032  2016-10-01 00:00:00          12.05        12      0.0               1  \n",
      "1369033  2016-10-01 00:00:00          12.05        12      0.0               1  \n",
      "...                      ...            ...       ...      ...             ...  \n",
      "2278896  2017-02-03 00:00:00          12.05        12      0.0               1  \n",
      "2278909  2017-02-03 00:00:00          12.05        10      0.0               1  \n",
      "2278922  2017-02-03 00:00:00          12.05        12      0.0               1  \n",
      "2278954  2017-02-03 00:00:00          12.05        12      0.0               1  \n",
      "2278958  2017-02-03 00:00:00          12.05        12      0.0               1  \n",
      "\n",
      "[153 rows x 16 columns]\n"
     ]
    }
   ],
   "source": [
    "#Vamos a encontrar el valor medio de cada columna para reemplazarlo en el valor 0 de \"The Macallan Double Cask 12\"\n",
    "\n",
    "#Verificamos las filas que contienen \"The Macallan Double Cask 12\" en la columna Description\n",
    "macallan_rows = Detalle_compra[Detalle_compra['Description'].str.contains(\"The Macallan Double Cask 12\", na=False)]\n",
    "print(\"\\nFilas antes de la actualización:\")\n",
    "print(macallan_rows)\n",
    "\n",
    "#Calculamos el valor medio de la columna PurchasePrice\n",
    "mean_purchase_price = round(Detalle_compra['PurchasePrice'].mean(), 2)\n",
    "\n",
    "print(f\"\\nValor medio de PurchasePrice: {mean_purchase_price}\")\n",
    "\n",
    "#Reemplazamos los valores en PurchasePrice para \"The Macallan Double Cask 12\" con los valores medios\n",
    "Detalle_compra.loc[\n",
    "    Detalle_compra['Description'].str.contains(\"The Macallan Double Cask 12\", na=False), \n",
    "    ['PurchasePrice']\n",
    "] = [mean_purchase_price]\n",
    "\n",
    "# Verificamos las filas que contienen \"The Macallan Double Cask 12\" después del reemplazo\n",
    "macallan_rows_updated = Detalle_compra[Detalle_compra['Description'].str.contains(\"The Macallan Double Cask 12\", na=False)]\n",
    "print(\"\\nFilas después de la actualización:\")\n",
    "print(macallan_rows_updated)"
   ]
  },
  {
   "cell_type": "code",
   "execution_count": 27,
   "metadata": {},
   "outputs": [
    {
     "name": "stdout",
     "output_type": "stream",
     "text": [
      "Número de celdas con precio=0 en la columna 'PurchasePrice' es : 0\n"
     ]
    }
   ],
   "source": [
    "#Contamos cuantas celdas hay con precio=0 en la columna 'Purchaseprice para confirmar los cambios\n",
    "zero_price_count = (Detalle_compra['PurchasePrice'] == 0).sum()\n",
    "\n",
    "#Imprimimos\n",
    "print(f\"Número de celdas con precio=0 en la columna 'PurchasePrice' es : {zero_price_count}\")"
   ]
  },
  {
   "cell_type": "code",
   "execution_count": 28,
   "metadata": {},
   "outputs": [
    {
     "name": "stdout",
     "output_type": "stream",
     "text": [
      "                        Description  Brand  UniqueVendorCount\n",
      "940    Benton Lane Pnt Gris Willamt  42801                  2\n",
      "941          Benton Lane Pnt Nr Ore  31384                  2\n",
      "1029                Big Peat Scotch   2717                  2\n",
      "2593             Chocolate Shop Red  17754                  2\n",
      "2627   Cigar Zin Old Vine Zinfandel  18771                  2\n",
      "2910       Corner Creek Rsv Bourbon   2879                  2\n",
      "4048   Flavor Essence Variety 5 Pak  90609                  2\n",
      "5167    Jaboulet Cotes du Rhone Par   6692                  2\n",
      "5169   Jaboulet Crozes Herm 10 Thal  11259                  2\n",
      "5170    Jaboulet Crozes Hermitage L  26889                  2\n",
      "5171   Jaboulet Cts Rhone Parl Rose  11089                  2\n",
      "6021        Le Grande Courtage Brut  21860                  2\n",
      "6022        Le Grande Courtage Brut  21959                  2\n",
      "6024        Le Grande Courtage Rose  21960                  2\n",
      "6138                  Linie Aquavit   5322                  2\n",
      "6383   Magnificent Wine Co House Re  42735                  2\n",
      "8871                   Sipsmith Gin   2232                  2\n",
      "9071              Sortilege Liqueur   2158                  2\n",
      "9077               Southern Comfort    809                  2\n",
      "9078               Southern Comfort   5197                  2\n",
      "9079               Southern Comfort   5270                  2\n",
      "9080               Southern Comfort   5297                  2\n",
      "9081               Southern Comfort   5299                  2\n",
      "9083     Southern Comfort 100 Proof   5273                  2\n",
      "9084     Southern Comfort 100 Proof   5296                  2\n",
      "9085     Southern Comfort 100 Proof   5298                  2\n",
      "9086       Southern Comfort Caramel   5434                  2\n",
      "9087        Southern Comfort Cherry   6942                  2\n",
      "10009         Tuaca Italian Liqueur   5075                  2\n"
     ]
    }
   ],
   "source": [
    "#Se analiza si hay productos que tienen mas de un proveedor \n",
    "#Agrupamos por producto y contamos los proveedores únicos (VendorNumber)\n",
    "product_vendor_count = Detalle_compra.groupby(['Description', 'Brand'])['VendorNumber'].nunique().reset_index()\n",
    "\n",
    "# Renombramos la columna para claridad\n",
    "product_vendor_count.columns = ['Description', 'Brand', 'UniqueVendorCount']\n",
    "\n",
    "# Filtramos productos que tienen más de un proveedor\n",
    "multiple_vendors = product_vendor_count[product_vendor_count['UniqueVendorCount'] > 1]\n",
    "\n",
    "# Imprimimos\n",
    "print(multiple_vendors)"
   ]
  },
  {
   "cell_type": "markdown",
   "metadata": {},
   "source": [
    "Con el fin de organizar los datos, creamos una nueva columna como clave primaria de esta tabla"
   ]
  },
  {
   "cell_type": "code",
   "execution_count": 29,
   "metadata": {},
   "outputs": [
    {
     "data": {
      "text/html": [
       "<div>\n",
       "<style scoped>\n",
       "    .dataframe tbody tr th:only-of-type {\n",
       "        vertical-align: middle;\n",
       "    }\n",
       "\n",
       "    .dataframe tbody tr th {\n",
       "        vertical-align: top;\n",
       "    }\n",
       "\n",
       "    .dataframe thead th {\n",
       "        text-align: right;\n",
       "    }\n",
       "</style>\n",
       "<table border=\"1\" class=\"dataframe\">\n",
       "  <thead>\n",
       "    <tr style=\"text-align: right;\">\n",
       "      <th></th>\n",
       "      <th>InventoryId</th>\n",
       "      <th>Store</th>\n",
       "      <th>Brand</th>\n",
       "      <th>Description</th>\n",
       "      <th>Size</th>\n",
       "      <th>VendorNumber</th>\n",
       "      <th>VendorName</th>\n",
       "      <th>PONumber</th>\n",
       "      <th>PODate</th>\n",
       "      <th>ReceivingDate</th>\n",
       "      <th>InvoiceDate</th>\n",
       "      <th>PayDate</th>\n",
       "      <th>PurchasePrice</th>\n",
       "      <th>Quantity</th>\n",
       "      <th>Dollars</th>\n",
       "      <th>Classification</th>\n",
       "      <th>Detalle_compraID</th>\n",
       "    </tr>\n",
       "  </thead>\n",
       "  <tbody>\n",
       "    <tr>\n",
       "      <th>0</th>\n",
       "      <td>69_MOUNTMEND_8412</td>\n",
       "      <td>69</td>\n",
       "      <td>8412</td>\n",
       "      <td>Tequila Ocho Plata Fresno</td>\n",
       "      <td>750mL</td>\n",
       "      <td>105</td>\n",
       "      <td>ALTAMAR BRANDS LLC</td>\n",
       "      <td>8124</td>\n",
       "      <td>2015-12-21 00:00:00</td>\n",
       "      <td>2016-01-02 00:00:00</td>\n",
       "      <td>2016-01-04 00:00:00</td>\n",
       "      <td>2016-02-16 00:00:00</td>\n",
       "      <td>35.71</td>\n",
       "      <td>6</td>\n",
       "      <td>214.26</td>\n",
       "      <td>1</td>\n",
       "      <td>1</td>\n",
       "    </tr>\n",
       "    <tr>\n",
       "      <th>1</th>\n",
       "      <td>30_CULCHETH_5255</td>\n",
       "      <td>30</td>\n",
       "      <td>5255</td>\n",
       "      <td>TGI Fridays Ultimte Mudslide</td>\n",
       "      <td>1.75L</td>\n",
       "      <td>4466</td>\n",
       "      <td>AMERICAN VINTAGE BEVERAGE</td>\n",
       "      <td>8137</td>\n",
       "      <td>2015-12-22 00:00:00</td>\n",
       "      <td>2016-01-01 00:00:00</td>\n",
       "      <td>2016-01-07 00:00:00</td>\n",
       "      <td>2016-02-21 00:00:00</td>\n",
       "      <td>9.35</td>\n",
       "      <td>4</td>\n",
       "      <td>37.40</td>\n",
       "      <td>1</td>\n",
       "      <td>2</td>\n",
       "    </tr>\n",
       "    <tr>\n",
       "      <th>2</th>\n",
       "      <td>34_PITMERDEN_5215</td>\n",
       "      <td>34</td>\n",
       "      <td>5215</td>\n",
       "      <td>TGI Fridays Long Island Iced</td>\n",
       "      <td>1.75L</td>\n",
       "      <td>4466</td>\n",
       "      <td>AMERICAN VINTAGE BEVERAGE</td>\n",
       "      <td>8137</td>\n",
       "      <td>2015-12-22 00:00:00</td>\n",
       "      <td>2016-01-02 00:00:00</td>\n",
       "      <td>2016-01-07 00:00:00</td>\n",
       "      <td>2016-02-21 00:00:00</td>\n",
       "      <td>9.41</td>\n",
       "      <td>5</td>\n",
       "      <td>47.05</td>\n",
       "      <td>1</td>\n",
       "      <td>3</td>\n",
       "    </tr>\n",
       "    <tr>\n",
       "      <th>3</th>\n",
       "      <td>1_HARDERSFIELD_5255</td>\n",
       "      <td>1</td>\n",
       "      <td>5255</td>\n",
       "      <td>TGI Fridays Ultimte Mudslide</td>\n",
       "      <td>1.75L</td>\n",
       "      <td>4466</td>\n",
       "      <td>AMERICAN VINTAGE BEVERAGE</td>\n",
       "      <td>8137</td>\n",
       "      <td>2015-12-22 00:00:00</td>\n",
       "      <td>2016-01-01 00:00:00</td>\n",
       "      <td>2016-01-07 00:00:00</td>\n",
       "      <td>2016-02-21 00:00:00</td>\n",
       "      <td>9.35</td>\n",
       "      <td>6</td>\n",
       "      <td>56.10</td>\n",
       "      <td>1</td>\n",
       "      <td>4</td>\n",
       "    </tr>\n",
       "    <tr>\n",
       "      <th>4</th>\n",
       "      <td>76_DONCASTER_2034</td>\n",
       "      <td>76</td>\n",
       "      <td>2034</td>\n",
       "      <td>Glendalough Double Barrel</td>\n",
       "      <td>750mL</td>\n",
       "      <td>388</td>\n",
       "      <td>ATLANTIC IMPORTING COMPANY</td>\n",
       "      <td>8169</td>\n",
       "      <td>2015-12-24 00:00:00</td>\n",
       "      <td>2016-01-02 00:00:00</td>\n",
       "      <td>2016-01-09 00:00:00</td>\n",
       "      <td>2016-02-16 00:00:00</td>\n",
       "      <td>21.32</td>\n",
       "      <td>5</td>\n",
       "      <td>106.60</td>\n",
       "      <td>1</td>\n",
       "      <td>5</td>\n",
       "    </tr>\n",
       "  </tbody>\n",
       "</table>\n",
       "</div>"
      ],
      "text/plain": [
       "           InventoryId  Store  Brand                   Description   Size  \\\n",
       "0    69_MOUNTMEND_8412     69   8412     Tequila Ocho Plata Fresno  750mL   \n",
       "1     30_CULCHETH_5255     30   5255  TGI Fridays Ultimte Mudslide  1.75L   \n",
       "2    34_PITMERDEN_5215     34   5215  TGI Fridays Long Island Iced  1.75L   \n",
       "3  1_HARDERSFIELD_5255      1   5255  TGI Fridays Ultimte Mudslide  1.75L   \n",
       "4    76_DONCASTER_2034     76   2034     Glendalough Double Barrel  750mL   \n",
       "\n",
       "   VendorNumber                   VendorName  PONumber               PODate  \\\n",
       "0           105  ALTAMAR BRANDS LLC               8124  2015-12-21 00:00:00   \n",
       "1          4466  AMERICAN VINTAGE BEVERAGE        8137  2015-12-22 00:00:00   \n",
       "2          4466  AMERICAN VINTAGE BEVERAGE        8137  2015-12-22 00:00:00   \n",
       "3          4466  AMERICAN VINTAGE BEVERAGE        8137  2015-12-22 00:00:00   \n",
       "4           388  ATLANTIC IMPORTING COMPANY       8169  2015-12-24 00:00:00   \n",
       "\n",
       "         ReceivingDate          InvoiceDate              PayDate  \\\n",
       "0  2016-01-02 00:00:00  2016-01-04 00:00:00  2016-02-16 00:00:00   \n",
       "1  2016-01-01 00:00:00  2016-01-07 00:00:00  2016-02-21 00:00:00   \n",
       "2  2016-01-02 00:00:00  2016-01-07 00:00:00  2016-02-21 00:00:00   \n",
       "3  2016-01-01 00:00:00  2016-01-07 00:00:00  2016-02-21 00:00:00   \n",
       "4  2016-01-02 00:00:00  2016-01-09 00:00:00  2016-02-16 00:00:00   \n",
       "\n",
       "   PurchasePrice  Quantity  Dollars  Classification  Detalle_compraID  \n",
       "0          35.71         6   214.26               1                 1  \n",
       "1           9.35         4    37.40               1                 2  \n",
       "2           9.41         5    47.05               1                 3  \n",
       "3           9.35         6    56.10               1                 4  \n",
       "4          21.32         5   106.60               1                 5  "
      ]
     },
     "execution_count": 29,
     "metadata": {},
     "output_type": "execute_result"
    }
   ],
   "source": [
    "# Crear la nueva columna Detalle_compraID con valores incrementales desde 1\n",
    "Detalle_compra['Detalle_compraID'] = range(1, len(Detalle_compra) + 1)\n",
    "\n",
    "Detalle_compra.head()"
   ]
  },
  {
   "cell_type": "markdown",
   "metadata": {},
   "source": [
    "# 4. Visualizaciones para encontrar relaciones entre variables"
   ]
  },
  {
   "cell_type": "code",
   "execution_count": 30,
   "metadata": {},
   "outputs": [
    {
     "name": "stdout",
     "output_type": "stream",
     "text": [
      "  Inventario_InicialID  Tienda  MarcaID                   Descripcion Tamaño  \\\n",
      "0    69_MOUNTMEND_8412      69     8412     Tequila Ocho Plata Fresno  750mL   \n",
      "1     30_CULCHETH_5255      30     5255  TGI Fridays Ultimte Mudslide  1.75L   \n",
      "2    34_PITMERDEN_5215      34     5215  TGI Fridays Long Island Iced  1.75L   \n",
      "3  1_HARDERSFIELD_5255       1     5255  TGI Fridays Ultimte Mudslide  1.75L   \n",
      "4    76_DONCASTER_2034      76     2034     Glendalough Double Barrel  750mL   \n",
      "\n",
      "   ProveedorID             Nombre_proveedor  CompraID    Fecha_ordencompra  \\\n",
      "0          105  ALTAMAR BRANDS LLC               8124  2015-12-21 00:00:00   \n",
      "1         4466  AMERICAN VINTAGE BEVERAGE        8137  2015-12-22 00:00:00   \n",
      "2         4466  AMERICAN VINTAGE BEVERAGE        8137  2015-12-22 00:00:00   \n",
      "3         4466  AMERICAN VINTAGE BEVERAGE        8137  2015-12-22 00:00:00   \n",
      "4          388  ATLANTIC IMPORTING COMPANY       8169  2015-12-24 00:00:00   \n",
      "\n",
      "       Fecha_recepcion          InvoiceDate           Fecha_pago  \\\n",
      "0  2016-01-02 00:00:00  2016-01-04 00:00:00  2016-02-16 00:00:00   \n",
      "1  2016-01-01 00:00:00  2016-01-07 00:00:00  2016-02-21 00:00:00   \n",
      "2  2016-01-02 00:00:00  2016-01-07 00:00:00  2016-02-21 00:00:00   \n",
      "3  2016-01-01 00:00:00  2016-01-07 00:00:00  2016-02-21 00:00:00   \n",
      "4  2016-01-02 00:00:00  2016-01-09 00:00:00  2016-02-16 00:00:00   \n",
      "\n",
      "   Precio_compra  Cantidad  Importe  Clasificacion  Detalle_compraID  \n",
      "0          35.71         6   214.26              1                 1  \n",
      "1           9.35         4    37.40              1                 2  \n",
      "2           9.41         5    47.05              1                 3  \n",
      "3           9.35         6    56.10              1                 4  \n",
      "4          21.32         5   106.60              1                 5  \n"
     ]
    }
   ],
   "source": [
    "# Creamos un diccionario con los nombres actuales de las columnas a los nuevos nombres\n",
    "column_renames = {\n",
    "    'InventoryId': 'Inventario_InicialID',\n",
    "    'Store': 'Tienda',\n",
    "    'Brand': 'MarcaID',\n",
    "    'Description': 'Descripcion',\n",
    "    'Size': 'Tamaño',\n",
    "    'VendorNumber': 'ProveedorID',\n",
    "    'VendorName': 'Nombre_proveedor',\n",
    "    'PONumber': 'CompraID',\n",
    "    'PODate': 'Fecha_ordencompra',\n",
    "    'ReceivingDate': 'Fecha_recepcion',\n",
    "    'InvoiceData': 'Fecha_compra',\n",
    "    'PayDate': 'Fecha_pago',\n",
    "    'PurchasePrice': 'Precio_compra',\n",
    "    'Quantity': 'Cantidad',\n",
    "    'Dollars': 'Importe',\n",
    "    'Classification': 'Clasificacion',\n",
    "}\n",
    "\n",
    "# Renombramos las columnas\n",
    "Detalle_compra.rename(columns=column_renames, inplace=True)\n",
    "\n",
    "# Mostrar las primeras filas del DataFrame para verificar los cambios\n",
    "print(Detalle_compra.head())"
   ]
  },
  {
   "cell_type": "code",
   "execution_count": 31,
   "metadata": {},
   "outputs": [],
   "source": [
    "# Convertimos las fechas a formato datetime\n",
    "Detalle_compra['Fecha_ordencompra'] = pd.to_datetime(Detalle_compra['Fecha_ordencompra'])\n",
    "Detalle_compra['Fecha_recepcion'] = pd.to_datetime(Detalle_compra['Fecha_recepcion'])"
   ]
  },
  {
   "cell_type": "code",
   "execution_count": 34,
   "metadata": {},
   "outputs": [
    {
     "name": "stdout",
     "output_type": "stream",
     "text": [
      "Top 10 Productos Más Comprados:\n",
      "   MarcaID                   Descripcion  Precio_compra  Cantidad\n",
      "0     8111             Smirnoff 80 Proof           0.77    337660\n",
      "1     1892                    Yukon Jack           0.72    254824\n",
      "2     5111  Dr McGillicuddy's Mentholmnt           0.72    244654\n",
      "3     3606      Smirnoff Raspberry Vodka           0.74    226085\n",
      "4     6570  Kendall Jackson Chard Vt RSV           6.77    215668\n",
      "5     4261        Capt Morgan Spiced Rum          16.17    201682\n",
      "6     8068              Absolut 80 Proof          18.24    187407\n",
      "7     3405         Tito's Handmade Vodka          23.19    164038\n",
      "8     3837                    Skyy Vodka           0.72    163375\n",
      "9     3102             Smirnoff Traveler          12.94    161386\n"
     ]
    },
    {
     "data": {
      "image/png": "[encoded data removed]",
      "text/plain": [
       "<Figure size 1000x600 with 1 Axes>"
      ]
     },
     "metadata": {},
     "output_type": "display_data"
    }
   ],
   "source": [
    "#Filtramos los 10 productos más comprados\n",
    "top_productos = Detalle_compra.groupby(['MarcaID', 'Descripcion', 'Precio_compra'])['Cantidad'].sum().nlargest(10).reset_index()\n",
    "print(\"Top 10 Productos Más Comprados:\")\n",
    "print(top_productos[['MarcaID', 'Descripcion', 'Precio_compra', 'Cantidad']])\n",
    "\n",
    "# Gráfico de la cantidad de productos de clasificación 1 y 2\n",
    "clasificacion_count = Detalle_compra['Clasificacion'].value_counts()\n",
    "plt.figure(figsize=(10, 6))\n",
    "sns.barplot(x=clasificacion_count.index, y=clasificacion_count.values)\n",
    "plt.title('Cantidad de Productos por Clasificación')\n",
    "plt.xlabel('Clasificación')\n",
    "plt.ylabel('Cantidad de Productos')\n",
    "plt.xticks([0, 1], ['Clasificación 1', 'Clasificación 2'])\n",
    "plt.show()\n",
    "\n"
   ]
  },
  {
   "cell_type": "code",
   "execution_count": null,
   "metadata": {},
   "outputs": [
    {
     "data": {
      "image/png": "[encoded data removed]",
      "text/plain": [
       "<Figure size 1200x800 with 1 Axes>"
      ]
     },
     "metadata": {},
     "output_type": "display_data"
    }
   ],
   "source": [
    "# Comparamos la diferencia entre la fecha de la orden y la fecha de entrega\n",
    "Detalle_compra['Diferencia_Dias'] = (Detalle_compra['Fecha_recepcion'] - Detalle_compra['Fecha_ordencompra']).dt.days\n",
    "plt.figure(figsize=(12, 8))\n",
    "sns.histplot(Detalle_compra['Diferencia_Dias'], bins=30, kde=True)\n",
    "plt.title('Distribución de la Diferencia entre la Fecha de la Orden y la Fecha de Entrega')\n",
    "plt.xlabel('Días de Demora')\n",
    "plt.ylabel('Frecuencia')\n",
    "plt.axvline(Detalle_compra['Diferencia_Dias'].mean(), color='red', linestyle='--', label='Promedio')\n",
    "plt.legend()\n",
    "plt.show()\n",
    "\n"
   ]
  },
  {
   "cell_type": "code",
   "execution_count": 35,
   "metadata": {},
   "outputs": [
    {
     "name": "stdout",
     "output_type": "stream",
     "text": [
      "Archivo guardado exitosamente\n"
     ]
    }
   ],
   "source": [
    "#Guardamos estos procesos en un nuevo CSV\n",
    "Detalle_compra.to_csv('Tabla_Detallecompras.csv', index=False)\n",
    "\n",
    "#Imprimimos mensaje de confirmacion\n",
    "print(\"Archivo guardado exitosamente\") "
   ]
  }
 ],
 "metadata": {
  "kernelspec": {
   "display_name": "Python 3",
   "language": "python",
   "name": "python3"
  },
  "language_info": {
   "codemirror_mode": {
    "name": "ipython",
    "version": 3
   },
   "file_extension": ".py",
   "mimetype": "text/x-python",
   "name": "python",
   "nbconvert_exporter": "python",
   "pygments_lexer": "ipython3",
   "version": "3.12.4"
  }
 },
 "nbformat": 4,
 "nbformat_minor": 2
}
