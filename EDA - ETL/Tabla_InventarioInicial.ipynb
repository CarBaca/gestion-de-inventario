{
 "cells": [
  {
   "cell_type": "markdown",
   "metadata": {},
   "source": [
    "Carga de librerias"
   ]
  },
  {
   "cell_type": "code",
   "execution_count": 1,
   "metadata": {},
   "outputs": [],
   "source": [
    "### Protecto Final\n",
    "#Carga de librerias\n",
    "import numpy as np\n",
    "import pandas as pd\n",
    "import matplotlib.pyplot as plt\n",
    "import seaborn as sns\n",
    "import os"
   ]
  },
  {
   "cell_type": "markdown",
   "metadata": {},
   "source": [
    "Leer el archivo"
   ]
  },
  {
   "cell_type": "code",
   "execution_count": 2,
   "metadata": {},
   "outputs": [],
   "source": [
    "Tabla_InventarioInicial = pd.read_csv(\"BegInvFINAL12312016.csv\",sep=',')"
   ]
  },
  {
   "cell_type": "markdown",
   "metadata": {},
   "source": [
    "### Para darnos una idea general de los datos, se imprimen las primeros 5 lineas."
   ]
  },
  {
   "cell_type": "code",
   "execution_count": 3,
   "metadata": {},
   "outputs": [
    {
     "data": {
      "text/html": [
       "<div>\n",
       "<style scoped>\n",
       "    .dataframe tbody tr th:only-of-type {\n",
       "        vertical-align: middle;\n",
       "    }\n",
       "\n",
       "    .dataframe tbody tr th {\n",
       "        vertical-align: top;\n",
       "    }\n",
       "\n",
       "    .dataframe thead th {\n",
       "        text-align: right;\n",
       "    }\n",
       "</style>\n",
       "<table border=\"1\" class=\"dataframe\">\n",
       "  <thead>\n",
       "    <tr style=\"text-align: right;\">\n",
       "      <th></th>\n",
       "      <th>InventoryId</th>\n",
       "      <th>Store</th>\n",
       "      <th>City</th>\n",
       "      <th>Brand</th>\n",
       "      <th>Description</th>\n",
       "      <th>Size</th>\n",
       "      <th>onHand</th>\n",
       "      <th>Price</th>\n",
       "      <th>startDate</th>\n",
       "    </tr>\n",
       "  </thead>\n",
       "  <tbody>\n",
       "    <tr>\n",
       "      <th>0</th>\n",
       "      <td>1_HARDERSFIELD_58</td>\n",
       "      <td>1</td>\n",
       "      <td>HARDERSFIELD</td>\n",
       "      <td>58</td>\n",
       "      <td>Gekkeikan Black &amp; Gold Sake</td>\n",
       "      <td>750mL</td>\n",
       "      <td>8</td>\n",
       "      <td>12.99</td>\n",
       "      <td>2016-01-01</td>\n",
       "    </tr>\n",
       "    <tr>\n",
       "      <th>1</th>\n",
       "      <td>1_HARDERSFIELD_60</td>\n",
       "      <td>1</td>\n",
       "      <td>HARDERSFIELD</td>\n",
       "      <td>60</td>\n",
       "      <td>Canadian Club 1858 VAP</td>\n",
       "      <td>750mL</td>\n",
       "      <td>7</td>\n",
       "      <td>10.99</td>\n",
       "      <td>2016-01-01</td>\n",
       "    </tr>\n",
       "    <tr>\n",
       "      <th>2</th>\n",
       "      <td>1_HARDERSFIELD_62</td>\n",
       "      <td>1</td>\n",
       "      <td>HARDERSFIELD</td>\n",
       "      <td>62</td>\n",
       "      <td>Herradura Silver Tequila</td>\n",
       "      <td>750mL</td>\n",
       "      <td>6</td>\n",
       "      <td>36.99</td>\n",
       "      <td>2016-01-01</td>\n",
       "    </tr>\n",
       "    <tr>\n",
       "      <th>3</th>\n",
       "      <td>1_HARDERSFIELD_63</td>\n",
       "      <td>1</td>\n",
       "      <td>HARDERSFIELD</td>\n",
       "      <td>63</td>\n",
       "      <td>Herradura Reposado Tequila</td>\n",
       "      <td>750mL</td>\n",
       "      <td>3</td>\n",
       "      <td>38.99</td>\n",
       "      <td>2016-01-01</td>\n",
       "    </tr>\n",
       "    <tr>\n",
       "      <th>4</th>\n",
       "      <td>1_HARDERSFIELD_72</td>\n",
       "      <td>1</td>\n",
       "      <td>HARDERSFIELD</td>\n",
       "      <td>72</td>\n",
       "      <td>No. 3 London Dry Gin</td>\n",
       "      <td>750mL</td>\n",
       "      <td>6</td>\n",
       "      <td>34.99</td>\n",
       "      <td>2016-01-01</td>\n",
       "    </tr>\n",
       "  </tbody>\n",
       "</table>\n",
       "</div>"
      ],
      "text/plain": [
       "         InventoryId  Store          City  Brand                  Description  \\\n",
       "0  1_HARDERSFIELD_58      1  HARDERSFIELD     58  Gekkeikan Black & Gold Sake   \n",
       "1  1_HARDERSFIELD_60      1  HARDERSFIELD     60       Canadian Club 1858 VAP   \n",
       "2  1_HARDERSFIELD_62      1  HARDERSFIELD     62     Herradura Silver Tequila   \n",
       "3  1_HARDERSFIELD_63      1  HARDERSFIELD     63   Herradura Reposado Tequila   \n",
       "4  1_HARDERSFIELD_72      1  HARDERSFIELD     72         No. 3 London Dry Gin   \n",
       "\n",
       "    Size  onHand  Price   startDate  \n",
       "0  750mL       8  12.99  2016-01-01  \n",
       "1  750mL       7  10.99  2016-01-01  \n",
       "2  750mL       6  36.99  2016-01-01  \n",
       "3  750mL       3  38.99  2016-01-01  \n",
       "4  750mL       6  34.99  2016-01-01  "
      ]
     },
     "execution_count": 3,
     "metadata": {},
     "output_type": "execute_result"
    }
   ],
   "source": [
    "Tabla_InventarioInicial.head()"
   ]
  },
  {
   "cell_type": "markdown",
   "metadata": {},
   "source": [
    "# Análisis exploratorio de datos"
   ]
  },
  {
   "cell_type": "code",
   "execution_count": 4,
   "metadata": {},
   "outputs": [],
   "source": [
    "# Se creó una función donde devuelve una tabla con la info necesaria para obtener información de los datos.\n",
    "def dataframe_info(df):\n",
    "    report = pd.DataFrame(columns=['Columna', 'TipoDato', 'Filas', 'Valores Unicos', 'Missings', 'Missings (%)'])\n",
    "    for column in df.columns:\n",
    "        data_type = df[column].dtype\n",
    "        rows = df[column].shape[0] \n",
    "        unique_count = df[column].nunique()\n",
    "        missing_values = df[column].isnull().sum()\n",
    "        missing_percentage = (missing_values / len(df)) * 100\n",
    "        report.loc[len(report)] = [column, data_type, rows, unique_count,  missing_values, missing_percentage.round(4)]\n",
    "    return report"
   ]
  },
  {
   "cell_type": "code",
   "execution_count": 5,
   "metadata": {},
   "outputs": [
    {
     "data": {
      "text/html": [
       "<div>\n",
       "<style scoped>\n",
       "    .dataframe tbody tr th:only-of-type {\n",
       "        vertical-align: middle;\n",
       "    }\n",
       "\n",
       "    .dataframe tbody tr th {\n",
       "        vertical-align: top;\n",
       "    }\n",
       "\n",
       "    .dataframe thead th {\n",
       "        text-align: right;\n",
       "    }\n",
       "</style>\n",
       "<table border=\"1\" class=\"dataframe\">\n",
       "  <thead>\n",
       "    <tr style=\"text-align: right;\">\n",
       "      <th></th>\n",
       "      <th>Columna</th>\n",
       "      <th>TipoDato</th>\n",
       "      <th>Filas</th>\n",
       "      <th>Valores Unicos</th>\n",
       "      <th>Missings</th>\n",
       "      <th>Missings (%)</th>\n",
       "    </tr>\n",
       "  </thead>\n",
       "  <tbody>\n",
       "    <tr>\n",
       "      <th>0</th>\n",
       "      <td>InventoryId</td>\n",
       "      <td>object</td>\n",
       "      <td>206529</td>\n",
       "      <td>206529</td>\n",
       "      <td>0</td>\n",
       "      <td>0.0</td>\n",
       "    </tr>\n",
       "    <tr>\n",
       "      <th>1</th>\n",
       "      <td>Store</td>\n",
       "      <td>int64</td>\n",
       "      <td>206529</td>\n",
       "      <td>79</td>\n",
       "      <td>0</td>\n",
       "      <td>0.0</td>\n",
       "    </tr>\n",
       "    <tr>\n",
       "      <th>2</th>\n",
       "      <td>City</td>\n",
       "      <td>object</td>\n",
       "      <td>206529</td>\n",
       "      <td>67</td>\n",
       "      <td>0</td>\n",
       "      <td>0.0</td>\n",
       "    </tr>\n",
       "    <tr>\n",
       "      <th>3</th>\n",
       "      <td>Brand</td>\n",
       "      <td>int64</td>\n",
       "      <td>206529</td>\n",
       "      <td>8094</td>\n",
       "      <td>0</td>\n",
       "      <td>0.0</td>\n",
       "    </tr>\n",
       "    <tr>\n",
       "      <th>4</th>\n",
       "      <td>Description</td>\n",
       "      <td>object</td>\n",
       "      <td>206529</td>\n",
       "      <td>7291</td>\n",
       "      <td>0</td>\n",
       "      <td>0.0</td>\n",
       "    </tr>\n",
       "    <tr>\n",
       "      <th>5</th>\n",
       "      <td>Size</td>\n",
       "      <td>object</td>\n",
       "      <td>206529</td>\n",
       "      <td>41</td>\n",
       "      <td>0</td>\n",
       "      <td>0.0</td>\n",
       "    </tr>\n",
       "    <tr>\n",
       "      <th>6</th>\n",
       "      <td>onHand</td>\n",
       "      <td>int64</td>\n",
       "      <td>206529</td>\n",
       "      <td>474</td>\n",
       "      <td>0</td>\n",
       "      <td>0.0</td>\n",
       "    </tr>\n",
       "    <tr>\n",
       "      <th>7</th>\n",
       "      <td>Price</td>\n",
       "      <td>float64</td>\n",
       "      <td>206529</td>\n",
       "      <td>329</td>\n",
       "      <td>0</td>\n",
       "      <td>0.0</td>\n",
       "    </tr>\n",
       "    <tr>\n",
       "      <th>8</th>\n",
       "      <td>startDate</td>\n",
       "      <td>object</td>\n",
       "      <td>206529</td>\n",
       "      <td>1</td>\n",
       "      <td>0</td>\n",
       "      <td>0.0</td>\n",
       "    </tr>\n",
       "  </tbody>\n",
       "</table>\n",
       "</div>"
      ],
      "text/plain": [
       "       Columna TipoDato   Filas  Valores Unicos  Missings  Missings (%)\n",
       "0  InventoryId   object  206529          206529         0           0.0\n",
       "1        Store    int64  206529              79         0           0.0\n",
       "2         City   object  206529              67         0           0.0\n",
       "3        Brand    int64  206529            8094         0           0.0\n",
       "4  Description   object  206529            7291         0           0.0\n",
       "5         Size   object  206529              41         0           0.0\n",
       "6       onHand    int64  206529             474         0           0.0\n",
       "7        Price  float64  206529             329         0           0.0\n",
       "8    startDate   object  206529               1         0           0.0"
      ]
     },
     "execution_count": 5,
     "metadata": {},
     "output_type": "execute_result"
    }
   ],
   "source": [
    "dataframe_info(Tabla_InventarioInicial)"
   ]
  },
  {
   "cell_type": "markdown",
   "metadata": {},
   "source": [
    "Comprobamos si hay duplicados."
   ]
  },
  {
   "cell_type": "code",
   "execution_count": 6,
   "metadata": {},
   "outputs": [
    {
     "name": "stdout",
     "output_type": "stream",
     "text": [
      "El dataset no tiene duplicados.\n"
     ]
    }
   ],
   "source": [
    "duplicados = Tabla_InventarioInicial.duplicated().any()\n",
    "if duplicados:\n",
    "    print(f\"El dataset tiene duplicados.\")\n",
    "else:\n",
    "    print(f\"El dataset no tiene duplicados.\")"
   ]
  },
  {
   "cell_type": "markdown",
   "metadata": {},
   "source": [
    "La exploración de datos ayuda a identificar irregularidades que necesitan limpieza y preprocesamiento:\n",
    "\n",
    "- El formato de fecha difiere entre tablas. Por ejemplo, la tabla de VentasFinal utiliza mm/dd/aaaa, mientras que las otras como esta utilizan aaaa/mm/dd."
   ]
  },
  {
   "cell_type": "markdown",
   "metadata": {},
   "source": [
    "Realizamos un analisis descriptivo de cada columna"
   ]
  },
  {
   "cell_type": "code",
   "execution_count": 7,
   "metadata": {},
   "outputs": [
    {
     "name": "stdout",
     "output_type": "stream",
     "text": [
      "InventoryId\n",
      "count                 206529\n",
      "unique                206529\n",
      "top       79_BALLYMENA_90089\n",
      "freq                       1\n",
      "Name: InventoryId, dtype: object\n",
      "------------------------\n",
      "Store\n",
      "count    206529.000000\n",
      "mean         42.122457\n",
      "std          23.191393\n",
      "min           1.000000\n",
      "25%          22.000000\n",
      "50%          42.000000\n",
      "75%          64.000000\n",
      "max          79.000000\n",
      "Name: Store, dtype: float64\n",
      "------------------------\n",
      "City\n",
      "count        206529\n",
      "unique           67\n",
      "top       MOUNTMEND\n",
      "freq          14264\n",
      "Name: City, dtype: object\n",
      "------------------------\n",
      "Brand\n",
      "count    206529.000000\n",
      "mean      13761.482320\n",
      "std       13059.429355\n",
      "min          58.000000\n",
      "25%        3746.000000\n",
      "50%        8010.000000\n",
      "75%       22143.000000\n",
      "max       90090.000000\n",
      "Name: Brand, dtype: float64\n",
      "------------------------\n",
      "Description\n",
      "count                   206529\n",
      "unique                    7291\n",
      "top       Jagermeister Liqueur\n",
      "freq                       459\n",
      "Name: Description, dtype: object\n",
      "------------------------\n",
      "Size\n",
      "count     206529\n",
      "unique        41\n",
      "top        750mL\n",
      "freq      144514\n",
      "Name: Size, dtype: object\n",
      "------------------------\n",
      "onHand\n",
      "count    206529.000000\n",
      "mean         20.429455\n",
      "std          31.467342\n",
      "min           0.000000\n",
      "25%           7.000000\n",
      "50%          12.000000\n",
      "75%          21.000000\n",
      "max        1251.000000\n",
      "Name: onHand, dtype: float64\n",
      "------------------------\n",
      "Price\n",
      "count    206529.000000\n",
      "mean         22.253910\n",
      "std          70.178964\n",
      "min           0.000000\n",
      "25%           9.990000\n",
      "50%          14.990000\n",
      "75%          21.990000\n",
      "max       13999.900000\n",
      "Name: Price, dtype: float64\n",
      "------------------------\n",
      "startDate\n",
      "count         206529\n",
      "unique             1\n",
      "top       2016-01-01\n",
      "freq          206529\n",
      "Name: startDate, dtype: object\n",
      "------------------------\n"
     ]
    }
   ],
   "source": [
    "#iteramos sobre cada columna de nuestro dataframe con un cilo for\n",
    "for i in Tabla_InventarioInicial.columns:\n",
    "    print(i)\n",
    "    print(Tabla_InventarioInicial[i].describe()) \n",
    "    print('------------------------')"
   ]
  },
  {
   "cell_type": "markdown",
   "metadata": {},
   "source": [
    "# ETL  Limpieza y preprocesamiento de datos"
   ]
  },
  {
   "cell_type": "markdown",
   "metadata": {},
   "source": [
    "Se cambia el nombre a las columnas"
   ]
  },
  {
   "cell_type": "code",
   "execution_count": 8,
   "metadata": {},
   "outputs": [],
   "source": [
    "Tabla_InventarioInicial.rename(columns={'InventoryId': 'Inventario_inicialID'}, inplace=True)\n",
    "Tabla_InventarioInicial.rename(columns={'Store': 'Tienda'}, inplace=True)\n",
    "Tabla_InventarioInicial.rename(columns={'City': 'Ciudad'}, inplace=True)\n",
    "Tabla_InventarioInicial.rename(columns={'Brand': 'MarcaID'}, inplace=True)\n",
    "Tabla_InventarioInicial.rename(columns={'Description': 'Descripcion'}, inplace=True)\n",
    "Tabla_InventarioInicial.rename(columns={'Size': 'Tamaño'}, inplace=True)\n",
    "Tabla_InventarioInicial.rename(columns={'onHand': 'Unidad_Disponible'}, inplace=True)\n",
    "Tabla_InventarioInicial.rename(columns={'Price': 'Precio_venta'}, inplace=True)\n",
    "Tabla_InventarioInicial.rename(columns={'startDate': 'Fecha'}, inplace=True)"
   ]
  },
  {
   "cell_type": "markdown",
   "metadata": {},
   "source": [
    "Irregularidades en las entradas de datos.\n",
    "La columna Size varía en la información sobre el tamaño, pero lo que nos interesa es\n",
    "la cantidad de productos en cada linea, pero las que vienen de oferta ej: \"pack x 3\" se\n",
    "deben contabilizar por 3, por lo que agregamos una columna al costado para contabilizar."
   ]
  },
  {
   "cell_type": "code",
   "execution_count": 9,
   "metadata": {},
   "outputs": [
    {
     "name": "stdout",
     "output_type": "stream",
     "text": [
      "       Inventario_inicialID  Tienda        Ciudad  MarcaID  \\\n",
      "0         1_HARDERSFIELD_58       1  HARDERSFIELD       58   \n",
      "1         1_HARDERSFIELD_60       1  HARDERSFIELD       60   \n",
      "2         1_HARDERSFIELD_62       1  HARDERSFIELD       62   \n",
      "3         1_HARDERSFIELD_63       1  HARDERSFIELD       63   \n",
      "4         1_HARDERSFIELD_72       1  HARDERSFIELD       72   \n",
      "...                     ...     ...           ...      ...   \n",
      "206524   79_BALLYMENA_46985      79     BALLYMENA    46985   \n",
      "206525   79_BALLYMENA_47014      79     BALLYMENA    47014   \n",
      "206526   79_BALLYMENA_47090      79     BALLYMENA    47090   \n",
      "206527   79_BALLYMENA_90011      79     BALLYMENA    90011   \n",
      "206528   79_BALLYMENA_90089      79     BALLYMENA    90089   \n",
      "\n",
      "                         Descripcion Tamaño  Unidad_Disponible  Precio_venta  \\\n",
      "0        Gekkeikan Black & Gold Sake  750mL                  8         12.99   \n",
      "1             Canadian Club 1858 VAP  750mL                  7         10.99   \n",
      "2           Herradura Silver Tequila  750mL                  6         36.99   \n",
      "3         Herradura Reposado Tequila  750mL                  3         38.99   \n",
      "4               No. 3 London Dry Gin  750mL                  6         34.99   \n",
      "...                              ...    ...                ...           ...   \n",
      "206524  Rodney Strong Cab Svgn Alexa  750mL                 13         22.99   \n",
      "206525           Juan Gil Jumilla Rd  750mL                 13         13.99   \n",
      "206526    Napa Cellars Cab Svgn Napa  750mL                 19         23.99   \n",
      "206527  Ch Pichon Longville 12 Pauil  750mL                 12        144.99   \n",
      "206528    Ch Lynch Bages 12 Pauillac  750mL                 24        119.99   \n",
      "\n",
      "             Fecha  Cantidad  \n",
      "0       2016-01-01         1  \n",
      "1       2016-01-01         1  \n",
      "2       2016-01-01         1  \n",
      "3       2016-01-01         1  \n",
      "4       2016-01-01         1  \n",
      "...            ...       ...  \n",
      "206524  2016-01-01         1  \n",
      "206525  2016-01-01         1  \n",
      "206526  2016-01-01         1  \n",
      "206527  2016-01-01         1  \n",
      "206528  2016-01-01         1  \n",
      "\n",
      "[206529 rows x 10 columns]\n"
     ]
    }
   ],
   "source": [
    "import re\n",
    "# Función para contar las unidades\n",
    "def count_units(Tamaño):\n",
    "    # Si el valor contiene \"Pk\", extrae el número antes de \"Pk\"\n",
    "    if 'Pk' in Tamaño:\n",
    "        match = re.search(r'(\\d+)\\s*Pk', Tamaño)\n",
    "        if match:\n",
    "            return int(match.group(1))\n",
    "    # En caso contrario, cuenta como 1\n",
    "    return 1\n",
    "\n",
    "# Aplicar la función a la columna 'Tamaño'\n",
    "Tabla_InventarioInicial['Cantidad'] = Tabla_InventarioInicial['Tamaño'].apply(count_units)\n",
    "\n",
    "# Mostrar el DataFrame resultante\n",
    "print(Tabla_InventarioInicial)"
   ]
  },
  {
   "cell_type": "markdown",
   "metadata": {},
   "source": [
    "Guardamos la data en un csv."
   ]
  },
  {
   "cell_type": "code",
   "execution_count": 10,
   "metadata": {},
   "outputs": [],
   "source": [
    "Tabla_InventarioInicial.to_csv(\"Tabla_InventarioInicial.csv\",index=False)"
   ]
  },
  {
   "cell_type": "code",
   "execution_count": 11,
   "metadata": {},
   "outputs": [
    {
     "data": {
      "text/html": [
       "<div>\n",
       "<style scoped>\n",
       "    .dataframe tbody tr th:only-of-type {\n",
       "        vertical-align: middle;\n",
       "    }\n",
       "\n",
       "    .dataframe tbody tr th {\n",
       "        vertical-align: top;\n",
       "    }\n",
       "\n",
       "    .dataframe thead th {\n",
       "        text-align: right;\n",
       "    }\n",
       "</style>\n",
       "<table border=\"1\" class=\"dataframe\">\n",
       "  <thead>\n",
       "    <tr style=\"text-align: right;\">\n",
       "      <th></th>\n",
       "      <th>Inventario_inicialID</th>\n",
       "      <th>Tienda</th>\n",
       "      <th>Ciudad</th>\n",
       "      <th>MarcaID</th>\n",
       "      <th>Descripcion</th>\n",
       "      <th>Tamaño</th>\n",
       "      <th>Unidad_Disponible</th>\n",
       "      <th>Precio_venta</th>\n",
       "      <th>Fecha</th>\n",
       "      <th>Cantidad</th>\n",
       "    </tr>\n",
       "  </thead>\n",
       "  <tbody>\n",
       "    <tr>\n",
       "      <th>0</th>\n",
       "      <td>1_HARDERSFIELD_58</td>\n",
       "      <td>1</td>\n",
       "      <td>HARDERSFIELD</td>\n",
       "      <td>58</td>\n",
       "      <td>Gekkeikan Black &amp; Gold Sake</td>\n",
       "      <td>750mL</td>\n",
       "      <td>8</td>\n",
       "      <td>12.99</td>\n",
       "      <td>2016-01-01</td>\n",
       "      <td>1</td>\n",
       "    </tr>\n",
       "    <tr>\n",
       "      <th>1</th>\n",
       "      <td>1_HARDERSFIELD_60</td>\n",
       "      <td>1</td>\n",
       "      <td>HARDERSFIELD</td>\n",
       "      <td>60</td>\n",
       "      <td>Canadian Club 1858 VAP</td>\n",
       "      <td>750mL</td>\n",
       "      <td>7</td>\n",
       "      <td>10.99</td>\n",
       "      <td>2016-01-01</td>\n",
       "      <td>1</td>\n",
       "    </tr>\n",
       "    <tr>\n",
       "      <th>2</th>\n",
       "      <td>1_HARDERSFIELD_62</td>\n",
       "      <td>1</td>\n",
       "      <td>HARDERSFIELD</td>\n",
       "      <td>62</td>\n",
       "      <td>Herradura Silver Tequila</td>\n",
       "      <td>750mL</td>\n",
       "      <td>6</td>\n",
       "      <td>36.99</td>\n",
       "      <td>2016-01-01</td>\n",
       "      <td>1</td>\n",
       "    </tr>\n",
       "    <tr>\n",
       "      <th>3</th>\n",
       "      <td>1_HARDERSFIELD_63</td>\n",
       "      <td>1</td>\n",
       "      <td>HARDERSFIELD</td>\n",
       "      <td>63</td>\n",
       "      <td>Herradura Reposado Tequila</td>\n",
       "      <td>750mL</td>\n",
       "      <td>3</td>\n",
       "      <td>38.99</td>\n",
       "      <td>2016-01-01</td>\n",
       "      <td>1</td>\n",
       "    </tr>\n",
       "    <tr>\n",
       "      <th>4</th>\n",
       "      <td>1_HARDERSFIELD_72</td>\n",
       "      <td>1</td>\n",
       "      <td>HARDERSFIELD</td>\n",
       "      <td>72</td>\n",
       "      <td>No. 3 London Dry Gin</td>\n",
       "      <td>750mL</td>\n",
       "      <td>6</td>\n",
       "      <td>34.99</td>\n",
       "      <td>2016-01-01</td>\n",
       "      <td>1</td>\n",
       "    </tr>\n",
       "  </tbody>\n",
       "</table>\n",
       "</div>"
      ],
      "text/plain": [
       "  Inventario_inicialID  Tienda        Ciudad  MarcaID  \\\n",
       "0    1_HARDERSFIELD_58       1  HARDERSFIELD       58   \n",
       "1    1_HARDERSFIELD_60       1  HARDERSFIELD       60   \n",
       "2    1_HARDERSFIELD_62       1  HARDERSFIELD       62   \n",
       "3    1_HARDERSFIELD_63       1  HARDERSFIELD       63   \n",
       "4    1_HARDERSFIELD_72       1  HARDERSFIELD       72   \n",
       "\n",
       "                   Descripcion Tamaño  Unidad_Disponible  Precio_venta  \\\n",
       "0  Gekkeikan Black & Gold Sake  750mL                  8         12.99   \n",
       "1       Canadian Club 1858 VAP  750mL                  7         10.99   \n",
       "2     Herradura Silver Tequila  750mL                  6         36.99   \n",
       "3   Herradura Reposado Tequila  750mL                  3         38.99   \n",
       "4         No. 3 London Dry Gin  750mL                  6         34.99   \n",
       "\n",
       "        Fecha  Cantidad  \n",
       "0  2016-01-01         1  \n",
       "1  2016-01-01         1  \n",
       "2  2016-01-01         1  \n",
       "3  2016-01-01         1  \n",
       "4  2016-01-01         1  "
      ]
     },
     "execution_count": 11,
     "metadata": {},
     "output_type": "execute_result"
    }
   ],
   "source": [
    "Tabla_InventarioInicial.head()"
   ]
  },
  {
   "cell_type": "markdown",
   "metadata": {},
   "source": [
    "# Visualizaciones e identificacion de relaciones y patrones."
   ]
  },
  {
   "cell_type": "markdown",
   "metadata": {},
   "source": [
    "Gráfico de barras de cantidad de productos por ciudad o tienda, las 10 ciudades con mas productos."
   ]
  },
  {
   "cell_type": "code",
   "execution_count": 12,
   "metadata": {},
   "outputs": [
    {
     "data": {
      "image/png": "[encoded data removed]",
      "text/plain": [
       "<Figure size 1000x600 with 1 Axes>"
      ]
     },
     "metadata": {},
     "output_type": "display_data"
    }
   ],
   "source": [
    "# Contar la cantidad de productos por ciudad y seleccionar las 10 ciudades con más productos\n",
    "top_ciudades = Tabla_InventarioInicial['Ciudad'].value_counts().nlargest(10)\n",
    "\n",
    "# Crear el gráfico de barras para las 10 ciudades con más productos\n",
    "plt.figure(figsize=(10, 6))\n",
    "top_ciudades.plot(kind='bar')\n",
    "plt.title('Top 10 ciudades con más productos')\n",
    "plt.xlabel('Ciudad')\n",
    "plt.ylabel('Cantidad de productos')\n",
    "plt.xticks(rotation=45)\n",
    "plt.show()"
   ]
  },
  {
   "cell_type": "markdown",
   "metadata": {},
   "source": [
    "Mapa de calor de correlación entre variables numéricas"
   ]
  },
  {
   "cell_type": "code",
   "execution_count": 13,
   "metadata": {},
   "outputs": [
    {
     "data": {
      "image/png": "[encoded data removed]",
      "text/plain": [
       "<Figure size 800x600 with 2 Axes>"
      ]
     },
     "metadata": {},
     "output_type": "display_data"
    }
   ],
   "source": [
    "# Seleccionar variables numéricas para el mapa de calor\n",
    "numeric_cols = ['Unidad_Disponible', 'Precio_venta', 'Cantidad']\n",
    "\n",
    "# Calcular la matriz de correlación\n",
    "correlation_matrix = Tabla_InventarioInicial[numeric_cols].corr()\n",
    "\n",
    "# Crear el mapa de calor\n",
    "plt.figure(figsize=(8, 6))\n",
    "sns.heatmap(correlation_matrix, annot=True, cmap='coolwarm', vmin=-1, vmax=1)\n",
    "plt.title('Mapa de calor de correlación')\n",
    "plt.show()"
   ]
  }
 ],
 "metadata": {
  "kernelspec": {
   "display_name": "Python 3",
   "language": "python",
   "name": "python3"
  },
  "language_info": {
   "codemirror_mode": {
    "name": "ipython",
    "version": 3
   },
   "file_extension": ".py",
   "mimetype": "text/x-python",
   "name": "python",
   "nbconvert_exporter": "python",
   "pygments_lexer": "ipython3",
   "version": "3.12.4"
  }
 },
 "nbformat": 4,
 "nbformat_minor": 2
}
