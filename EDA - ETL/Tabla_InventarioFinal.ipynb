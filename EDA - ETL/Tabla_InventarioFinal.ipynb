{
 "cells": [
  {
   "cell_type": "markdown",
   "metadata": {},
   "source": [
    "Carga de librerias"
   ]
  },
  {
   "cell_type": "code",
   "execution_count": 1,
   "metadata": {},
   "outputs": [],
   "source": [
    "### Protecto Final\n",
    "#Carga de librerias\n",
    "import numpy as np\n",
    "import pandas as pd\n",
    "import matplotlib.pyplot as plt\n",
    "import seaborn as sns\n",
    "import os"
   ]
  },
  {
   "cell_type": "markdown",
   "metadata": {},
   "source": [
    "Leer el archivo"
   ]
  },
  {
   "cell_type": "code",
   "execution_count": 2,
   "metadata": {},
   "outputs": [],
   "source": [
    "InventarioFINAL = pd.read_csv(\"EndInvFINAL12312016.csv\",sep=',')"
   ]
  },
  {
   "cell_type": "markdown",
   "metadata": {},
   "source": [
    "### Para darnos una idea general de los datos, se imprimen las primeros 5 lineas."
   ]
  },
  {
   "cell_type": "code",
   "execution_count": 3,
   "metadata": {},
   "outputs": [
    {
     "data": {
      "text/html": [
       "<div>\n",
       "<style scoped>\n",
       "    .dataframe tbody tr th:only-of-type {\n",
       "        vertical-align: middle;\n",
       "    }\n",
       "\n",
       "    .dataframe tbody tr th {\n",
       "        vertical-align: top;\n",
       "    }\n",
       "\n",
       "    .dataframe thead th {\n",
       "        text-align: right;\n",
       "    }\n",
       "</style>\n",
       "<table border=\"1\" class=\"dataframe\">\n",
       "  <thead>\n",
       "    <tr style=\"text-align: right;\">\n",
       "      <th></th>\n",
       "      <th>InventoryId</th>\n",
       "      <th>Store</th>\n",
       "      <th>City</th>\n",
       "      <th>Brand</th>\n",
       "      <th>Description</th>\n",
       "      <th>Size</th>\n",
       "      <th>onHand</th>\n",
       "      <th>Price</th>\n",
       "      <th>endDate</th>\n",
       "    </tr>\n",
       "  </thead>\n",
       "  <tbody>\n",
       "    <tr>\n",
       "      <th>0</th>\n",
       "      <td>1_HARDERSFIELD_58</td>\n",
       "      <td>1</td>\n",
       "      <td>HARDERSFIELD</td>\n",
       "      <td>58</td>\n",
       "      <td>Gekkeikan Black &amp; Gold Sake</td>\n",
       "      <td>750mL</td>\n",
       "      <td>11</td>\n",
       "      <td>12.99</td>\n",
       "      <td>2016-12-31</td>\n",
       "    </tr>\n",
       "    <tr>\n",
       "      <th>1</th>\n",
       "      <td>1_HARDERSFIELD_62</td>\n",
       "      <td>1</td>\n",
       "      <td>HARDERSFIELD</td>\n",
       "      <td>62</td>\n",
       "      <td>Herradura Silver Tequila</td>\n",
       "      <td>750mL</td>\n",
       "      <td>7</td>\n",
       "      <td>36.99</td>\n",
       "      <td>2016-12-31</td>\n",
       "    </tr>\n",
       "    <tr>\n",
       "      <th>2</th>\n",
       "      <td>1_HARDERSFIELD_63</td>\n",
       "      <td>1</td>\n",
       "      <td>HARDERSFIELD</td>\n",
       "      <td>63</td>\n",
       "      <td>Herradura Reposado Tequila</td>\n",
       "      <td>750mL</td>\n",
       "      <td>7</td>\n",
       "      <td>38.99</td>\n",
       "      <td>2016-12-31</td>\n",
       "    </tr>\n",
       "    <tr>\n",
       "      <th>3</th>\n",
       "      <td>1_HARDERSFIELD_72</td>\n",
       "      <td>1</td>\n",
       "      <td>HARDERSFIELD</td>\n",
       "      <td>72</td>\n",
       "      <td>No. 3 London Dry Gin</td>\n",
       "      <td>750mL</td>\n",
       "      <td>4</td>\n",
       "      <td>34.99</td>\n",
       "      <td>2016-12-31</td>\n",
       "    </tr>\n",
       "    <tr>\n",
       "      <th>4</th>\n",
       "      <td>1_HARDERSFIELD_75</td>\n",
       "      <td>1</td>\n",
       "      <td>HARDERSFIELD</td>\n",
       "      <td>75</td>\n",
       "      <td>Three Olives Tomato Vodka</td>\n",
       "      <td>750mL</td>\n",
       "      <td>7</td>\n",
       "      <td>14.99</td>\n",
       "      <td>2016-12-31</td>\n",
       "    </tr>\n",
       "  </tbody>\n",
       "</table>\n",
       "</div>"
      ],
      "text/plain": [
       "         InventoryId  Store          City  Brand                  Description  \\\n",
       "0  1_HARDERSFIELD_58      1  HARDERSFIELD     58  Gekkeikan Black & Gold Sake   \n",
       "1  1_HARDERSFIELD_62      1  HARDERSFIELD     62     Herradura Silver Tequila   \n",
       "2  1_HARDERSFIELD_63      1  HARDERSFIELD     63   Herradura Reposado Tequila   \n",
       "3  1_HARDERSFIELD_72      1  HARDERSFIELD     72         No. 3 London Dry Gin   \n",
       "4  1_HARDERSFIELD_75      1  HARDERSFIELD     75    Three Olives Tomato Vodka   \n",
       "\n",
       "    Size  onHand  Price     endDate  \n",
       "0  750mL      11  12.99  2016-12-31  \n",
       "1  750mL       7  36.99  2016-12-31  \n",
       "2  750mL       7  38.99  2016-12-31  \n",
       "3  750mL       4  34.99  2016-12-31  \n",
       "4  750mL       7  14.99  2016-12-31  "
      ]
     },
     "execution_count": 3,
     "metadata": {},
     "output_type": "execute_result"
    }
   ],
   "source": [
    "InventarioFINAL.head()"
   ]
  },
  {
   "cell_type": "markdown",
   "metadata": {},
   "source": [
    "# Análisis exploratorio de datos (EDA)"
   ]
  },
  {
   "cell_type": "code",
   "execution_count": 4,
   "metadata": {},
   "outputs": [],
   "source": [
    "# Se creó una función donde devuelve una tabla con la info necesaria para obtener información de los datos.\n",
    "def dataframe_info(df):\n",
    "    report = pd.DataFrame(columns=['Columna', 'TipoDato', 'Filas', 'Valores Unicos', 'Missings', 'Missings (%)'])\n",
    "    for column in df.columns:\n",
    "        data_type = df[column].dtype\n",
    "        rows = df[column].shape[0] \n",
    "        unique_count = df[column].nunique()\n",
    "        missing_values = df[column].isnull().sum()\n",
    "        missing_percentage = (missing_values / len(df)) * 100\n",
    "        report.loc[len(report)] = [column, data_type, rows, unique_count,  missing_values, missing_percentage.round(4)]\n",
    "    return report"
   ]
  },
  {
   "cell_type": "code",
   "execution_count": 5,
   "metadata": {},
   "outputs": [
    {
     "data": {
      "text/html": [
       "<div>\n",
       "<style scoped>\n",
       "    .dataframe tbody tr th:only-of-type {\n",
       "        vertical-align: middle;\n",
       "    }\n",
       "\n",
       "    .dataframe tbody tr th {\n",
       "        vertical-align: top;\n",
       "    }\n",
       "\n",
       "    .dataframe thead th {\n",
       "        text-align: right;\n",
       "    }\n",
       "</style>\n",
       "<table border=\"1\" class=\"dataframe\">\n",
       "  <thead>\n",
       "    <tr style=\"text-align: right;\">\n",
       "      <th></th>\n",
       "      <th>Columna</th>\n",
       "      <th>TipoDato</th>\n",
       "      <th>Filas</th>\n",
       "      <th>Valores Unicos</th>\n",
       "      <th>Missings</th>\n",
       "      <th>Missings (%)</th>\n",
       "    </tr>\n",
       "  </thead>\n",
       "  <tbody>\n",
       "    <tr>\n",
       "      <th>0</th>\n",
       "      <td>InventoryId</td>\n",
       "      <td>object</td>\n",
       "      <td>224489</td>\n",
       "      <td>224489</td>\n",
       "      <td>0</td>\n",
       "      <td>0.000</td>\n",
       "    </tr>\n",
       "    <tr>\n",
       "      <th>1</th>\n",
       "      <td>Store</td>\n",
       "      <td>int64</td>\n",
       "      <td>224489</td>\n",
       "      <td>80</td>\n",
       "      <td>0</td>\n",
       "      <td>0.000</td>\n",
       "    </tr>\n",
       "    <tr>\n",
       "      <th>2</th>\n",
       "      <td>City</td>\n",
       "      <td>object</td>\n",
       "      <td>224489</td>\n",
       "      <td>67</td>\n",
       "      <td>1284</td>\n",
       "      <td>0.572</td>\n",
       "    </tr>\n",
       "    <tr>\n",
       "      <th>3</th>\n",
       "      <td>Brand</td>\n",
       "      <td>int64</td>\n",
       "      <td>224489</td>\n",
       "      <td>9653</td>\n",
       "      <td>0</td>\n",
       "      <td>0.000</td>\n",
       "    </tr>\n",
       "    <tr>\n",
       "      <th>4</th>\n",
       "      <td>Description</td>\n",
       "      <td>object</td>\n",
       "      <td>224489</td>\n",
       "      <td>8732</td>\n",
       "      <td>0</td>\n",
       "      <td>0.000</td>\n",
       "    </tr>\n",
       "    <tr>\n",
       "      <th>5</th>\n",
       "      <td>Size</td>\n",
       "      <td>object</td>\n",
       "      <td>224489</td>\n",
       "      <td>47</td>\n",
       "      <td>0</td>\n",
       "      <td>0.000</td>\n",
       "    </tr>\n",
       "    <tr>\n",
       "      <th>6</th>\n",
       "      <td>onHand</td>\n",
       "      <td>int64</td>\n",
       "      <td>224489</td>\n",
       "      <td>548</td>\n",
       "      <td>0</td>\n",
       "      <td>0.000</td>\n",
       "    </tr>\n",
       "    <tr>\n",
       "      <th>7</th>\n",
       "      <td>Price</td>\n",
       "      <td>float64</td>\n",
       "      <td>224489</td>\n",
       "      <td>354</td>\n",
       "      <td>0</td>\n",
       "      <td>0.000</td>\n",
       "    </tr>\n",
       "    <tr>\n",
       "      <th>8</th>\n",
       "      <td>endDate</td>\n",
       "      <td>object</td>\n",
       "      <td>224489</td>\n",
       "      <td>1</td>\n",
       "      <td>0</td>\n",
       "      <td>0.000</td>\n",
       "    </tr>\n",
       "  </tbody>\n",
       "</table>\n",
       "</div>"
      ],
      "text/plain": [
       "       Columna TipoDato   Filas  Valores Unicos  Missings  Missings (%)\n",
       "0  InventoryId   object  224489          224489         0         0.000\n",
       "1        Store    int64  224489              80         0         0.000\n",
       "2         City   object  224489              67      1284         0.572\n",
       "3        Brand    int64  224489            9653         0         0.000\n",
       "4  Description   object  224489            8732         0         0.000\n",
       "5         Size   object  224489              47         0         0.000\n",
       "6       onHand    int64  224489             548         0         0.000\n",
       "7        Price  float64  224489             354         0         0.000\n",
       "8      endDate   object  224489               1         0         0.000"
      ]
     },
     "execution_count": 5,
     "metadata": {},
     "output_type": "execute_result"
    }
   ],
   "source": [
    "dataframe_info(InventarioFINAL)"
   ]
  },
  {
   "cell_type": "markdown",
   "metadata": {},
   "source": [
    "Vemos en que Columna estan esos nulos"
   ]
  },
  {
   "cell_type": "code",
   "execution_count": 6,
   "metadata": {},
   "outputs": [
    {
     "name": "stdout",
     "output_type": "stream",
     "text": [
      "Filas con valores nulos encontradas:\n",
      "       InventoryId  Store City  Brand                   Description   Size  \\\n",
      "113895      46__58     46  NaN     58   Gekkeikan Black & Gold Sake  750mL   \n",
      "113896      46__62     46  NaN     62      Herradura Silver Tequila  750mL   \n",
      "113897      46__63     46  NaN     63    Herradura Reposado Tequila  750mL   \n",
      "113898      46__77     46  NaN     77   Three Olives Espresso Vodka  750mL   \n",
      "113899     46__106     46  NaN    106      Mr Boston Peach Schnapps  Liter   \n",
      "...            ...    ...  ...    ...                           ...    ...   \n",
      "115174   46__46447     46  NaN  46447         Gascon Malbec Mendoza  750mL   \n",
      "115175   46__46458     46  NaN  46458      Layer Cake Barosa Shiraz  750mL   \n",
      "115176   46__46476     46  NaN  46476          Tilia Malbec Mendoza  750mL   \n",
      "115177   46__46764     46  NaN  46764  Clayhouse Adobe Red Paso Rbl  750mL   \n",
      "115178   46__46830     46  NaN  46830         Pacific Rim Sweet Rsl  750mL   \n",
      "\n",
      "        onHand  Price     endDate  \n",
      "113895       0  12.99  2016-12-31  \n",
      "113896       0  36.99  2016-12-31  \n",
      "113897       0  38.99  2016-12-31  \n",
      "113898       0  14.99  2016-12-31  \n",
      "113899       0   4.49  2016-12-31  \n",
      "...        ...    ...         ...  \n",
      "115174       0  10.99  2016-12-31  \n",
      "115175       0  15.99  2016-12-31  \n",
      "115176       0   9.99  2016-12-31  \n",
      "115177       0  11.99  2016-12-31  \n",
      "115178       0   8.99  2016-12-31  \n",
      "\n",
      "[1284 rows x 9 columns]\n"
     ]
    }
   ],
   "source": [
    "#Verificar si hay filas con valores nulos\n",
    "filas_nulas = InventarioFINAL.isnull().any(axis=1)\n",
    "\n",
    "#Mostrar filas con valores nulos\n",
    "filas_con_nulos = InventarioFINAL[filas_nulas]\n",
    "\n",
    "#Imprimir las filas con valores nulos\n",
    "if not filas_con_nulos.empty:\n",
    "    print(\"Filas con valores nulos encontradas:\")\n",
    "    print(filas_con_nulos)\n",
    "else:\n",
    "    print(\"No se encontraron filas con valores nulos.\")"
   ]
  },
  {
   "cell_type": "markdown",
   "metadata": {},
   "source": [
    "Comprobamos si hay duplicados."
   ]
  },
  {
   "cell_type": "code",
   "execution_count": 7,
   "metadata": {},
   "outputs": [
    {
     "name": "stdout",
     "output_type": "stream",
     "text": [
      "El dataset no tiene duplicados.\n"
     ]
    }
   ],
   "source": [
    "duplicados = InventarioFINAL.duplicated().any()\n",
    "if duplicados:\n",
    "    print(f\"El dataset tiene duplicados.\")\n",
    "else:\n",
    "    print(f\"El dataset no tiene duplicados.\")"
   ]
  },
  {
   "cell_type": "markdown",
   "metadata": {},
   "source": [
    "Vemos que estan en la columna \"City/Ciudad\""
   ]
  },
  {
   "cell_type": "markdown",
   "metadata": {},
   "source": [
    "La exploración de datos ayuda a identificar irregularidades que necesitan limpieza y preprocesamiento:\n",
    "\n",
    "- Hay 1284 valores nulos, en la columna \"City\", vimos que tiene la store 46, deducimos que la ciudad deberia ser TYWARDREATH segun lo que vimos en otra tabla.\n",
    "- El formato de fecha difiere entre tablas. Por ejemplo, la tabla de VentasFinal utiliza mm/dd/aaaa, mientras que las otras como esta utilizan aaaa/mm/dd."
   ]
  },
  {
   "cell_type": "markdown",
   "metadata": {},
   "source": [
    "Realizamos un analisis descriptivo de cada columna"
   ]
  },
  {
   "cell_type": "code",
   "execution_count": 8,
   "metadata": {},
   "outputs": [
    {
     "name": "stdout",
     "output_type": "stream",
     "text": [
      "InventoryId\n",
      "count                224489\n",
      "unique               224489\n",
      "top       81_PEMBROKE_90604\n",
      "freq                      1\n",
      "Name: InventoryId, dtype: object\n",
      "------------------------\n",
      "Store\n",
      "count    224489.000000\n",
      "mean         43.505740\n",
      "std          23.326415\n",
      "min           1.000000\n",
      "25%          23.000000\n",
      "50%          44.000000\n",
      "75%          66.000000\n",
      "max          81.000000\n",
      "Name: Store, dtype: float64\n",
      "------------------------\n",
      "City\n",
      "count        223205\n",
      "unique           67\n",
      "top       MOUNTMEND\n",
      "freq          18065\n",
      "Name: City, dtype: object\n",
      "------------------------\n",
      "Brand\n",
      "count    224489.000000\n",
      "mean      14356.370513\n",
      "std       13118.467851\n",
      "min          58.000000\n",
      "25%        3798.000000\n",
      "50%        8259.000000\n",
      "75%       23965.000000\n",
      "max       90631.000000\n",
      "Name: Brand, dtype: float64\n",
      "------------------------\n",
      "Description\n",
      "count                   224489\n",
      "unique                    8732\n",
      "top       Jagermeister Liqueur\n",
      "freq                       462\n",
      "Name: Description, dtype: object\n",
      "------------------------\n",
      "Size\n",
      "count     224489\n",
      "unique        47\n",
      "top        750mL\n",
      "freq      158227\n",
      "Name: Size, dtype: object\n",
      "------------------------\n",
      "onHand\n",
      "count    224489.000000\n",
      "mean         21.763988\n",
      "std          37.233576\n",
      "min           0.000000\n",
      "25%           7.000000\n",
      "50%          12.000000\n",
      "75%          22.000000\n",
      "max        3676.000000\n",
      "Name: onHand, dtype: float64\n",
      "------------------------\n",
      "Price\n",
      "count    224489.000000\n",
      "mean         23.585583\n",
      "std          79.202775\n",
      "min           0.490000\n",
      "25%           9.990000\n",
      "50%          14.990000\n",
      "75%          23.490000\n",
      "max       13999.900000\n",
      "Name: Price, dtype: float64\n",
      "------------------------\n",
      "endDate\n",
      "count         224489\n",
      "unique             1\n",
      "top       2016-12-31\n",
      "freq          224489\n",
      "Name: endDate, dtype: object\n",
      "------------------------\n"
     ]
    }
   ],
   "source": [
    "#iteramos sobre cada columna de nuestro dataframe con un cilo for\n",
    "for i in InventarioFINAL.columns:\n",
    "    print(i)\n",
    "    print(InventarioFINAL[i].describe()) \n",
    "    print('------------------------')"
   ]
  },
  {
   "cell_type": "markdown",
   "metadata": {},
   "source": [
    "# ETL  Limpieza y Procesamiento de datos"
   ]
  },
  {
   "cell_type": "markdown",
   "metadata": {},
   "source": [
    "Cambiar el nombre de las columnas."
   ]
  },
  {
   "cell_type": "code",
   "execution_count": 9,
   "metadata": {},
   "outputs": [],
   "source": [
    "InventarioFINAL.rename(columns={'InventoryId': 'Inventario_FinalID'}, inplace=True)\n",
    "InventarioFINAL.rename(columns={'Store': 'Tienda'}, inplace=True)\n",
    "InventarioFINAL.rename(columns={'City': 'Ciudad'}, inplace=True)\n",
    "InventarioFINAL.rename(columns={'Brand': 'MarcaID'}, inplace=True)\n",
    "InventarioFINAL.rename(columns={'Description': 'Descripcion'}, inplace=True)\n",
    "InventarioFINAL.rename(columns={'Size': 'Tamaño'}, inplace=True)\n",
    "InventarioFINAL.rename(columns={'onHand': 'Unidad_Disponible'}, inplace=True)\n",
    "InventarioFINAL.rename(columns={'Price': 'Precio_venta'}, inplace=True)\n",
    "InventarioFINAL.rename(columns={'endDate': 'Fecha'}, inplace=True)"
   ]
  },
  {
   "cell_type": "markdown",
   "metadata": {},
   "source": [
    "- Llenaremos esos 1284 nulos con la Ciudad que corresponde, como todos pertenecen a la misma tienda, y sabemos de que ciudad es esa tienda en otra tabla, simplement los reemplazamos por el nombre de la ciudad (TYWARDREATH)"
   ]
  },
  {
   "cell_type": "code",
   "execution_count": 10,
   "metadata": {},
   "outputs": [
    {
     "name": "stderr",
     "output_type": "stream",
     "text": [
      "C:\\Users\\Win10\\AppData\\Local\\Temp\\ipykernel_6908\\325581571.py:1: FutureWarning: A value is trying to be set on a copy of a DataFrame or Series through chained assignment using an inplace method.\n",
      "The behavior will change in pandas 3.0. This inplace method will never work because the intermediate object on which we are setting values always behaves as a copy.\n",
      "\n",
      "For example, when doing 'df[col].method(value, inplace=True)', try using 'df.method({col: value}, inplace=True)' or df[col] = df[col].method(value) instead, to perform the operation inplace on the original object.\n",
      "\n",
      "\n",
      "  InventarioFINAL['Ciudad'].fillna('TYWARDREATH', inplace=True)\n"
     ]
    }
   ],
   "source": [
    "InventarioFINAL['Ciudad'].fillna('TYWARDREATH', inplace=True)"
   ]
  },
  {
   "cell_type": "markdown",
   "metadata": {},
   "source": [
    "Irregularidades en las entradas de datos.\n",
    "La columna Size varía en la información sobre el tamaño, pero lo que nos interesa es\n",
    "la cantidad de productos en cada linea, pero las que vienen de oferta ej: \"pack x 3\" se\n",
    "deben contabilizar por 3, por lo que agregamos una columna al costado para contabilizar."
   ]
  },
  {
   "cell_type": "code",
   "execution_count": 11,
   "metadata": {},
   "outputs": [
    {
     "name": "stdout",
     "output_type": "stream",
     "text": [
      "       Inventario_FinalID  Tienda        Ciudad  MarcaID  \\\n",
      "0       1_HARDERSFIELD_58       1  HARDERSFIELD       58   \n",
      "1       1_HARDERSFIELD_62       1  HARDERSFIELD       62   \n",
      "2       1_HARDERSFIELD_63       1  HARDERSFIELD       63   \n",
      "3       1_HARDERSFIELD_72       1  HARDERSFIELD       72   \n",
      "4       1_HARDERSFIELD_75       1  HARDERSFIELD       75   \n",
      "...                   ...     ...           ...      ...   \n",
      "224484  81_PEMBROKE_90087      81      PEMBROKE    90087   \n",
      "224485  81_PEMBROKE_90088      81      PEMBROKE    90088   \n",
      "224486  81_PEMBROKE_90089      81      PEMBROKE    90089   \n",
      "224487  81_PEMBROKE_90090      81      PEMBROKE    90090   \n",
      "224488  81_PEMBROKE_90604      81      PEMBROKE    90604   \n",
      "\n",
      "                         Descripcion Tamaño  Unidad_Disponible  Precio_venta  \\\n",
      "0        Gekkeikan Black & Gold Sake  750mL                 11         12.99   \n",
      "1           Herradura Silver Tequila  750mL                  7         36.99   \n",
      "2         Herradura Reposado Tequila  750mL                  7         38.99   \n",
      "3               No. 3 London Dry Gin  750mL                  4         34.99   \n",
      "4          Three Olives Tomato Vodka  750mL                  7         14.99   \n",
      "...                              ...    ...                ...           ...   \n",
      "224484  Ch Mouton Rothschild 12 Paui  750mL                  3        469.99   \n",
      "224485  Ch Le Petite Mouton 12 Pauil  750mL                  3        134.99   \n",
      "224486    Ch Lynch Bages 12 Pauillac  750mL                  3        119.99   \n",
      "224487       Ch Lafite Rothschild 12  750mL                  3        649.99   \n",
      "224488        Ch Lynch Bages Pauilac  750mL                  2        119.99   \n",
      "\n",
      "             Fecha  Cantidad  \n",
      "0       2016-12-31         1  \n",
      "1       2016-12-31         1  \n",
      "2       2016-12-31         1  \n",
      "3       2016-12-31         1  \n",
      "4       2016-12-31         1  \n",
      "...            ...       ...  \n",
      "224484  2016-12-31         1  \n",
      "224485  2016-12-31         1  \n",
      "224486  2016-12-31         1  \n",
      "224487  2016-12-31         1  \n",
      "224488  2016-12-31         1  \n",
      "\n",
      "[224489 rows x 10 columns]\n"
     ]
    }
   ],
   "source": [
    "import re\n",
    "# Función para contar las unidades\n",
    "def count_units(Tamaño):\n",
    "    # Si el valor contiene \"Pk\", extrae el número antes de \"Pk\"\n",
    "    if 'Pk' in Tamaño:\n",
    "        match = re.search(r'(\\d+)\\s*Pk', Tamaño)\n",
    "        if match:\n",
    "            return int(match.group(1))\n",
    "    # En caso contrario, cuenta como 1\n",
    "    return 1\n",
    "\n",
    "# Aplicar la función a la columna 'Tamaño'\n",
    "InventarioFINAL['Cantidad'] = InventarioFINAL['Tamaño'].apply(count_units)\n",
    "\n",
    "# Mostrar el DataFrame resultante\n",
    "print(InventarioFINAL)"
   ]
  },
  {
   "cell_type": "markdown",
   "metadata": {},
   "source": [
    "# Análisis  de Datos"
   ]
  },
  {
   "cell_type": "markdown",
   "metadata": {},
   "source": [
    "Primero vemos de nuevo las primeras 5 filas de la tabla"
   ]
  },
  {
   "cell_type": "code",
   "execution_count": 12,
   "metadata": {},
   "outputs": [
    {
     "data": {
      "text/html": [
       "<div>\n",
       "<style scoped>\n",
       "    .dataframe tbody tr th:only-of-type {\n",
       "        vertical-align: middle;\n",
       "    }\n",
       "\n",
       "    .dataframe tbody tr th {\n",
       "        vertical-align: top;\n",
       "    }\n",
       "\n",
       "    .dataframe thead th {\n",
       "        text-align: right;\n",
       "    }\n",
       "</style>\n",
       "<table border=\"1\" class=\"dataframe\">\n",
       "  <thead>\n",
       "    <tr style=\"text-align: right;\">\n",
       "      <th></th>\n",
       "      <th>Inventario_FinalID</th>\n",
       "      <th>Tienda</th>\n",
       "      <th>Ciudad</th>\n",
       "      <th>MarcaID</th>\n",
       "      <th>Descripcion</th>\n",
       "      <th>Tamaño</th>\n",
       "      <th>Unidad_Disponible</th>\n",
       "      <th>Precio_venta</th>\n",
       "      <th>Fecha</th>\n",
       "      <th>Cantidad</th>\n",
       "    </tr>\n",
       "  </thead>\n",
       "  <tbody>\n",
       "    <tr>\n",
       "      <th>0</th>\n",
       "      <td>1_HARDERSFIELD_58</td>\n",
       "      <td>1</td>\n",
       "      <td>HARDERSFIELD</td>\n",
       "      <td>58</td>\n",
       "      <td>Gekkeikan Black &amp; Gold Sake</td>\n",
       "      <td>750mL</td>\n",
       "      <td>11</td>\n",
       "      <td>12.99</td>\n",
       "      <td>2016-12-31</td>\n",
       "      <td>1</td>\n",
       "    </tr>\n",
       "    <tr>\n",
       "      <th>1</th>\n",
       "      <td>1_HARDERSFIELD_62</td>\n",
       "      <td>1</td>\n",
       "      <td>HARDERSFIELD</td>\n",
       "      <td>62</td>\n",
       "      <td>Herradura Silver Tequila</td>\n",
       "      <td>750mL</td>\n",
       "      <td>7</td>\n",
       "      <td>36.99</td>\n",
       "      <td>2016-12-31</td>\n",
       "      <td>1</td>\n",
       "    </tr>\n",
       "    <tr>\n",
       "      <th>2</th>\n",
       "      <td>1_HARDERSFIELD_63</td>\n",
       "      <td>1</td>\n",
       "      <td>HARDERSFIELD</td>\n",
       "      <td>63</td>\n",
       "      <td>Herradura Reposado Tequila</td>\n",
       "      <td>750mL</td>\n",
       "      <td>7</td>\n",
       "      <td>38.99</td>\n",
       "      <td>2016-12-31</td>\n",
       "      <td>1</td>\n",
       "    </tr>\n",
       "    <tr>\n",
       "      <th>3</th>\n",
       "      <td>1_HARDERSFIELD_72</td>\n",
       "      <td>1</td>\n",
       "      <td>HARDERSFIELD</td>\n",
       "      <td>72</td>\n",
       "      <td>No. 3 London Dry Gin</td>\n",
       "      <td>750mL</td>\n",
       "      <td>4</td>\n",
       "      <td>34.99</td>\n",
       "      <td>2016-12-31</td>\n",
       "      <td>1</td>\n",
       "    </tr>\n",
       "    <tr>\n",
       "      <th>4</th>\n",
       "      <td>1_HARDERSFIELD_75</td>\n",
       "      <td>1</td>\n",
       "      <td>HARDERSFIELD</td>\n",
       "      <td>75</td>\n",
       "      <td>Three Olives Tomato Vodka</td>\n",
       "      <td>750mL</td>\n",
       "      <td>7</td>\n",
       "      <td>14.99</td>\n",
       "      <td>2016-12-31</td>\n",
       "      <td>1</td>\n",
       "    </tr>\n",
       "  </tbody>\n",
       "</table>\n",
       "</div>"
      ],
      "text/plain": [
       "  Inventario_FinalID  Tienda        Ciudad  MarcaID  \\\n",
       "0  1_HARDERSFIELD_58       1  HARDERSFIELD       58   \n",
       "1  1_HARDERSFIELD_62       1  HARDERSFIELD       62   \n",
       "2  1_HARDERSFIELD_63       1  HARDERSFIELD       63   \n",
       "3  1_HARDERSFIELD_72       1  HARDERSFIELD       72   \n",
       "4  1_HARDERSFIELD_75       1  HARDERSFIELD       75   \n",
       "\n",
       "                   Descripcion Tamaño  Unidad_Disponible  Precio_venta  \\\n",
       "0  Gekkeikan Black & Gold Sake  750mL                 11         12.99   \n",
       "1     Herradura Silver Tequila  750mL                  7         36.99   \n",
       "2   Herradura Reposado Tequila  750mL                  7         38.99   \n",
       "3         No. 3 London Dry Gin  750mL                  4         34.99   \n",
       "4    Three Olives Tomato Vodka  750mL                  7         14.99   \n",
       "\n",
       "        Fecha  Cantidad  \n",
       "0  2016-12-31         1  \n",
       "1  2016-12-31         1  \n",
       "2  2016-12-31         1  \n",
       "3  2016-12-31         1  \n",
       "4  2016-12-31         1  "
      ]
     },
     "execution_count": 12,
     "metadata": {},
     "output_type": "execute_result"
    }
   ],
   "source": [
    "InventarioFINAL.head()"
   ]
  },
  {
   "cell_type": "markdown",
   "metadata": {},
   "source": [
    "Ahora vemos el tamaño de la misma."
   ]
  },
  {
   "cell_type": "code",
   "execution_count": 13,
   "metadata": {},
   "outputs": [
    {
     "data": {
      "text/plain": [
       "(224489, 10)"
      ]
     },
     "execution_count": 13,
     "metadata": {},
     "output_type": "execute_result"
    }
   ],
   "source": [
    "np.shape(InventarioFINAL)"
   ]
  },
  {
   "cell_type": "markdown",
   "metadata": {},
   "source": [
    "Guardamos la data en un csv."
   ]
  },
  {
   "cell_type": "code",
   "execution_count": 14,
   "metadata": {},
   "outputs": [],
   "source": [
    "InventarioFINAL.to_csv(\"InventarioFINAL.csv\",index=False)"
   ]
  },
  {
   "cell_type": "markdown",
   "metadata": {},
   "source": [
    "# Visualizaciones e identificacion de relaciones y patrones."
   ]
  },
  {
   "cell_type": "markdown",
   "metadata": {},
   "source": [
    " Mapa de calor de correlación entre variables numéricas"
   ]
  },
  {
   "cell_type": "code",
   "execution_count": 15,
   "metadata": {},
   "outputs": [
    {
     "data": {
      "image/png": "[encoded data removed]",
      "text/plain": [
       "<Figure size 800x600 with 2 Axes>"
      ]
     },
     "metadata": {},
     "output_type": "display_data"
    }
   ],
   "source": [
    "# Seleccionar variables numéricas para el mapa de calor\n",
    "numeric_cols = ['Unidad_Disponible', 'Precio_venta', 'Cantidad']\n",
    "\n",
    "# Calcular la matriz de correlación\n",
    "correlation_matrix = InventarioFINAL[numeric_cols].corr()\n",
    "\n",
    "# Crear el mapa de calor\n",
    "plt.figure(figsize=(8, 6))\n",
    "sns.heatmap(correlation_matrix, annot=True, cmap='coolwarm', vmin=-1, vmax=1)\n",
    "plt.title('Mapa de calor de correlación')\n",
    "plt.show()"
   ]
  },
  {
   "cell_type": "markdown",
   "metadata": {},
   "source": [
    " Gráfico de barras de cantidad de productos por ciudad o tienda el top 10 ciudades con mas productos"
   ]
  },
  {
   "cell_type": "code",
   "execution_count": 16,
   "metadata": {},
   "outputs": [
    {
     "data": {
      "image/png": "[encoded data removed]",
      "text/plain": [
       "<Figure size 1000x600 with 1 Axes>"
      ]
     },
     "metadata": {},
     "output_type": "display_data"
    }
   ],
   "source": [
    "# Contar la cantidad de productos por ciudad\n",
    "productos_por_ciudad = InventarioFINAL['Ciudad'].value_counts()\n",
    "\n",
    "# Seleccionar las 5 ciudades con más productos\n",
    "top_ciudades = productos_por_ciudad.nlargest(10)\n",
    "\n",
    "# Crear el gráfico de barras para las 5 ciudades top\n",
    "plt.figure(figsize=(10, 6))\n",
    "top_ciudades.plot(kind='bar')\n",
    "plt.title('Top 10 ciudades con más productos')\n",
    "plt.xlabel('Ciudad')\n",
    "plt.ylabel('Cantidad de productos')\n",
    "plt.xticks(rotation=45)\n",
    "plt.show()"
   ]
  }
 ],
 "metadata": {
  "kernelspec": {
   "display_name": "Python 3",
   "language": "python",
   "name": "python3"
  },
  "language_info": {
   "codemirror_mode": {
    "name": "ipython",
    "version": 3
   },
   "file_extension": ".py",
   "mimetype": "text/x-python",
   "name": "python",
   "nbconvert_exporter": "python",
   "pygments_lexer": "ipython3",
   "version": "3.12.4"
  }
 },
 "nbformat": 4,
 "nbformat_minor": 2
}
